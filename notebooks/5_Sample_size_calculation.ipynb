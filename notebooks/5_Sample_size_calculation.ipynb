{
 "cells": [
  {
   "cell_type": "markdown",
   "id": "839aa9cf-09a3-4b44-8079-60c5984b723b",
   "metadata": {
    "tags": []
   },
   "source": [
    "# Sample Size Calculation"
   ]
  },
  {
   "cell_type": "markdown",
   "id": "25948164-2369-4226-bbd8-0bb9c96b0022",
   "metadata": {},
   "source": [
    "Sample size calculation is one of the first steps when designing a survey. \n",
    "\n",
    "Often at the designing phase, many variables are of interest. \n",
    "\n",
    "For the sample size calculation, the investigators must reduce the number to ideally a single variable or only a handful. \n",
    "\n",
    "In this tutorial, we will show how to use `samplics` to calculate sample size for a single variable.\n",
    "\n",
    "Reference for more details on sample size calculation\n",
    "- Chow, S., Shao, J., Wang, H., Lokhnygina, Y. (2018), Sample Size Calculations in Clinical Research, Third Edition., CRC Press, Taylor & Francis Group.\n",
    "- Ryan, T.P. (2013), Sample Size Determination and Power, Jonh Wiley & Sons, Inc."
   ]
  },
  {
   "cell_type": "markdown",
   "id": "a8a59e29-1c8c-4338-824a-64a68e3a3612",
   "metadata": {
    "toc-hr-collapsed": true
   },
   "source": [
    "## The Class `SampleSize`"
   ]
  },
  {
   "cell_type": "markdown",
   "id": "0425acec-5544-4364-9bb8-bdbdbdd2532c",
   "metadata": {},
   "source": [
    "To import the class from the `sampling` module, we run the code below\n",
    "\n",
    "```python\n",
    "from samplics.sampling import SampleSize\n",
    "```\n",
    "\n",
    "The first step is the initialization using the Python class depending on the parameter and method of interest. \n",
    "\n",
    "```python\n",
    "SampleSize(\n",
    "    parameter = \"proportion\",  # possible values are \"mean\", \"proportion\", and \"total\"\n",
    "    method = \"wald\",           # possible values are \"wald\" or \"feiss\"\n",
    "    stratification = False\n",
    ")\n",
    "```\n",
    "\n",
    "\n",
    "The main method of `SampleSize` is `calculate()` with the following signature\n",
    "\n",
    "```python\n",
    "SampleSize.calculate(\n",
    "    self,\n",
    "    target,                   # The expected value for the parameter\n",
    "    half_ci,                  # The desired precision (margin of error / half of the CI)\n",
    "    sigma = None,             # Optional. The standard deviation\n",
    "    deff = 1.0,               # Design effect, default is 1\n",
    "    resp_rate = 1.0,          # Response rate, default is 1\n",
    "    number_strata = None,     # Optional. Number of strata\n",
    "    pop_size  = None,         # Optional. Population size\n",
    "    alpha  = 0.05,            # Type I error, default is 0.05\n",
    ")\n",
    "```"
   ]
  },
  {
   "cell_type": "markdown",
   "id": "254a65a7-196f-42e8-9978-9e686edaf0b5",
   "metadata": {
    "tags": []
   },
   "source": [
    "### Estimation of a Proportion "
   ]
  },
  {
   "cell_type": "markdown",
   "id": "adbf4f68-3e03-42df-867b-e518b5d7d56b",
   "metadata": {},
   "source": [
    "In this situation, we want to estimate the minimum sample size required to estimate a proportion with a desired margin of error. \n",
    "\n",
    "The equation for this situation is $$ n_0 = \\big(\\frac{z_{\\alpha/2}}{e}\\big)^2 p(1-p)$$ where $z_{\\alpha/2}$ is the z-score, $p$ is the expected proportion, and $e$ is the margin of error."
   ]
  },
  {
   "cell_type": "markdown",
   "id": "45fd091b-a6d1-4759-ac6c-596de34cd103",
   "metadata": {},
   "source": [
    "**Example 5.1** \n",
    "\n",
    "Calculate the sample size to estimate a proportion `p=0.5` with a margin of error `e=0.03`. \n",
    "\n"
   ]
  },
  {
   "cell_type": "code",
   "execution_count": 1,
   "id": "6b12f01a-e30d-476b-8cbb-ea9e0cb0e64e",
   "metadata": {},
   "outputs": [
    {
     "name": "stderr",
     "output_type": "stream",
     "text": [
      "/Users/msdiallo/.pyenv/versions/3.10.2/lib/python3.10/site-packages/statsmodels/compat/pandas.py:65: FutureWarning: pandas.Int64Index is deprecated and will be removed from pandas in a future version. Use pandas.Index with the appropriate dtype instead.\n",
      "  from pandas import Int64Index as NumericIndex\n"
     ]
    }
   ],
   "source": [
    "from samplics.sampling import SampleSize"
   ]
  },
  {
   "cell_type": "code",
   "execution_count": 2,
   "id": "c648c20a-fac3-46af-9c6f-66da147c2b58",
   "metadata": {},
   "outputs": [],
   "source": [
    "# Instantiate an object SampleSize for a proportion\n",
    "\n",
    "size_prop = SampleSize(parameter=\"proportion\")\n",
    "\n",
    "# Calculate the sample size for the expected proportion and the desired margin of error\n",
    "\n",
    "size_prop.calculate(target=0.5, half_ci=0.03)"
   ]
  },
  {
   "cell_type": "markdown",
   "id": "f5497fbf-07d9-4372-be8a-24cb3ae57ce0",
   "metadata": {},
   "source": [
    "To show the content of the object `size_prop`, we can print the member `__dict__`"
   ]
  },
  {
   "cell_type": "code",
   "execution_count": 3,
   "id": "8b3689ec-4ea5-4440-bcea-e30c51806677",
   "metadata": {},
   "outputs": [
    {
     "data": {
      "text/plain": [
       "{'parameter': 'proportion',\n",
       " 'method': 'wald',\n",
       " 'stratification': False,\n",
       " 'samp_size': 1068,\n",
       " 'deff_c': 1.0,\n",
       " 'deff_w': 1.0,\n",
       " 'resp_rate': 1.0,\n",
       " 'pop_size': None,\n",
       " 'half_ci': 0.03,\n",
       " 'target': 0.5,\n",
       " 'sigma': 0.25,\n",
       " 'alpha': 0.05}"
      ]
     },
     "execution_count": 3,
     "metadata": {},
     "output_type": "execute_result"
    }
   ],
   "source": [
    "size_prop.__dict__"
   ]
  },
  {
   "cell_type": "markdown",
   "id": "5d0f3f39-145f-4e7c-a4b8-cb73be1d0612",
   "metadata": {},
   "source": [
    "Hence, the calculated sample size is stored in the member `samp_size`"
   ]
  },
  {
   "cell_type": "code",
   "execution_count": 4,
   "id": "4c90bb65-7e65-4269-9aec-379f5d06a8a5",
   "metadata": {},
   "outputs": [
    {
     "data": {
      "text/plain": [
       "1068"
      ]
     },
     "execution_count": 4,
     "metadata": {},
     "output_type": "execute_result"
    }
   ],
   "source": [
    "# The calculated sample size is stored in the object\n",
    "\n",
    "size_prop.samp_size"
   ]
  },
  {
   "cell_type": "markdown",
   "id": "899ffd19-6461-483a-b555-b1577ddf6fe4",
   "metadata": {},
   "source": [
    "In Situation 1, we assume that the size of the population is very large. \n",
    "\n",
    "If the population size is not too large, we should correct for finite population as follows $ n = \\frac{n_0}{1+\\frac{n_0}{N}} $"
   ]
  },
  {
   "cell_type": "markdown",
   "id": "0a7314a0-aa72-45b6-9a9b-d73116f20f49",
   "metadata": {},
   "source": [
    "**Example 5.2** \n",
    "\n",
    "Calculate the same sample size as in situation 1 assuming that `N=5000`."
   ]
  },
  {
   "cell_type": "code",
   "execution_count": 5,
   "id": "11736286-be49-4b75-8246-674d23ba56b0",
   "metadata": {},
   "outputs": [
    {
     "name": "stdout",
     "output_type": "stream",
     "text": [
      "\n",
      "The minimum required sample size is: 880\n"
     ]
    }
   ],
   "source": [
    "# Instantiate an object SampleSize for a proportion\n",
    "size_prop_fpc = SampleSize(parameter=\"proportion\")\n",
    "\n",
    "# Calculate the sample size for the expected proportion and the desired margin of error\n",
    "size_prop_fpc.calculate(target=0.5, half_ci=0.03, pop_size=5000)\n",
    "\n",
    "# Print the sample size\n",
    "print(f\"\\nThe minimum required sample size is: {size_prop_fpc.samp_size}\")"
   ]
  },
  {
   "cell_type": "markdown",
   "id": "730c5f17-0bee-4f70-bd12-82e8536d332a",
   "metadata": {},
   "source": [
    "**Excercise 5.1** \n",
    "\n",
    "What is the minimum sample size required to estimate a proportion of 0.70 with a margin of error of 5%. The population size is 2500. "
   ]
  },
  {
   "cell_type": "markdown",
   "id": "a6759b38-c072-4de0-8b68-d6e55ffca4f5",
   "metadata": {},
   "source": [
    "### Estimation of a Mean"
   ]
  },
  {
   "cell_type": "markdown",
   "id": "c8b13370-aca7-446b-b4c1-832b8dec4f2b",
   "metadata": {},
   "source": [
    "In the context of estimating means, the equation for sample size requires the standard deviation of the expected mean.\n",
    "\n",
    "The equation for the sample size is $$ n_0 = \\big(\\frac{z_{\\alpha/2} \\sigma}{e}\\big)^2 $$ where $z_{\\alpha/2}$ is the z-score, $\\sigma$ is the standard deviation, and $e$ is the margin of error. With the finite population correction factor, we get \n",
    "$$ n = \\frac{N z_{\\alpha/2}^2 \\sigma^2}{(N-1)e^2+z_{\\alpha/2}^2 \\sigma^2} $$"
   ]
  },
  {
   "cell_type": "markdown",
   "id": "82a7e6ae-7d3b-4dc2-988f-a6cf92fa2e44",
   "metadata": {},
   "source": [
    "**Example 5.3** \n",
    "\n",
    "Using $\\sigma=2$, $e=0.5$, $N=1000$, and $z_{\\alpha/2}=1.96$. Calculate the minimum required sample size."
   ]
  },
  {
   "cell_type": "code",
   "execution_count": 6,
   "id": "e74736f2-f110-4b67-9d3d-61a6e26a389f",
   "metadata": {},
   "outputs": [
    {
     "name": "stdout",
     "output_type": "stream",
     "text": [
      "\n",
      "The minimum required sample size is: 58\n"
     ]
    }
   ],
   "source": [
    "# Instantiate an object SampleSize for a mean\n",
    "size_mean_fpc = SampleSize(parameter=\"mean\")\n",
    "\n",
    "# Calculate the sample size for the expected standard deviation and the desired margin of error\n",
    "size_mean_fpc.calculate(half_ci=0.5, sigma=2, pop_size=1000)\n",
    "\n",
    "# Print the sample size\n",
    "print(f\"\\nThe minimum required sample size is: {size_mean_fpc.samp_size}\")"
   ]
  },
  {
   "cell_type": "markdown",
   "id": "57e9d273-50fc-4704-9ce0-8cf6bfdc3036",
   "metadata": {},
   "source": [
    "If the population size is large enough and don't use the finite population correction, then we get "
   ]
  },
  {
   "cell_type": "code",
   "execution_count": 7,
   "id": "09f5d105-5872-4572-89b5-fb8da51b425d",
   "metadata": {},
   "outputs": [
    {
     "name": "stdout",
     "output_type": "stream",
     "text": [
      "\n",
      "The minimum required sample size is: 62\n"
     ]
    }
   ],
   "source": [
    "# Instantiate an object SampleSize for a proportion\n",
    "size_mean_no_fpc = SampleSize(parameter=\"mean\")\n",
    "\n",
    "# Calculate the sample size for the expected standard deviation and the desired margin of error\n",
    "size_mean_no_fpc.calculate(half_ci=0.5, sigma=2)\n",
    "\n",
    "# Print the sample size\n",
    "print(f\"\\nThe minimum required sample size is: {size_mean_no_fpc.samp_size}\")"
   ]
  },
  {
   "cell_type": "markdown",
   "id": "1f71a4a8-6dcf-412d-b363-fb76ddbe1123",
   "metadata": {},
   "source": [
    "**Exercise 5.2** \n",
    "\n",
    "What is the minimum sample size required to estimate a mean with a standard deviation of 50 and a margin of error of 5."
   ]
  },
  {
   "cell_type": "markdown",
   "id": "0df3059f-6f03-4c4a-8b71-52ad46ee9c41",
   "metadata": {
    "tags": [],
    "toc-hr-collapsed": true
   },
   "source": [
    "## One-Sample Design"
   ]
  },
  {
   "cell_type": "markdown",
   "id": "fbf7909e-56e3-4433-ad05-ea6966fbae6f",
   "metadata": {},
   "source": [
    "Hypothesis testing is a common analysis goal in survey sampling. \n",
    "\n",
    "When hypothesis testing is the main goal of the study, investigators need to calculate the sample sizes to appropriately power the tests."
   ]
  },
  {
   "cell_type": "markdown",
   "id": "2f425b8c-4edd-40ab-8bf5-3da1de32d3a5",
   "metadata": {},
   "source": [
    "### Comparing Means "
   ]
  },
  {
   "cell_type": "markdown",
   "id": "107d54c0-c650-445e-add8-3e8d7cdc5f99",
   "metadata": {},
   "source": [
    "The equation to calculate the minimum required sample size depends on the type of the hypothesis test and other factors. "
   ]
  },
  {
   "cell_type": "markdown",
   "id": "e9f659ea-f534-409a-bf64-19febb49ac11",
   "metadata": {},
   "source": [
    "With `samplics`, we can use the class `SampleSizeMeanOneSample` to conduct these tests associated with one sample for the mean.\n",
    "\n",
    "\n",
    "```python\n",
    "SampleSizeMeanOneSample(\n",
    "    method = \"wald\",         # Only possible value is \"wald\" for now\n",
    "    stratification = False,  # A boolean to indicate where the sampling design is stratified\n",
    "    two_sides = True,        # A boolean to indicate it is a 2-side or 1-side test\n",
    "    params_estimated = True  # A boolean to indicate where the parameters are known or estimated\n",
    ")\n",
    "```\n",
    "\n",
    "The main method of `SampleSizeOneMean` is `calculate()` with the following signature\n",
    "\n",
    "```python \n",
    " SampleSizeOneMean.calculate(\n",
    "        mean_0,                # mean value under the null hypothesis\n",
    "        mean_1,                # mean value under the alternative hypothesis\n",
    "        sigma,                 # standard deviation\n",
    "        delta = 0.0,           # margin of the test\n",
    "        deff = 1.0,            # design effect, default is 1.\n",
    "        resp_rate = 1.0,       # response rate (proprotion), default is 1.\n",
    "        number_strata = None,  # number of strata, default is None\n",
    "        pop_size = None,       # population size, default is None\n",
    "        alpha = 0.05,          # significance level, default is 0.05\n",
    "        power = 0.80,          # power, deafult is 0.80\n",
    "    )\n",
    "```"
   ]
  },
  {
   "cell_type": "markdown",
   "id": "3530e7a9-f680-4573-8883-48d600fa267f",
   "metadata": {},
   "source": [
    "#### Test for Equality \n",
    "\n",
    "Let's assume we have one sample and we are interested in the following hypotheses\n",
    "\n",
    "$$ H_0: \\mu = \\mu_0 \\quad versus \\quad H_a: \\mu \\neq \\mu_0$$\n",
    "\n",
    "The equation for the sample size needed to achieve power $1-\\beta$ is\n",
    "\n",
    "$$ n = \\frac{(z_{\\alpha/2} + z_\\beta)^2 \\sigma^2}{\\epsilon^2}, $$\n",
    "\n",
    "where $\\epsilon$ is the difference $\\mu - \\mu_0$. This is call the **test for equality**.\n",
    "\n",
    "**Example 5.4** \n",
    "\n",
    "We want to calculate sample size required to test the difference before and after treatment. We have that the average before treatment is 1.5 and the same average after treatment is 2. The standard deviation is 1. \n",
    "\n",
    "What the minimum sample size required? "
   ]
  },
  {
   "cell_type": "code",
   "execution_count": 8,
   "id": "b0ad8c64-3dbb-4271-8a91-21bf206db8cd",
   "metadata": {},
   "outputs": [
    {
     "name": "stdout",
     "output_type": "stream",
     "text": [
      "\n",
      "The minimum required sample size is: 32\n"
     ]
    }
   ],
   "source": [
    "# we import the needed class\n",
    "from samplics.sampling import SampleSizeMeanOneSample\n",
    "\n",
    "# We instantiate the object with the default parameters\n",
    "mean_equality = SampleSizeMeanOneSample()\n",
    "\n",
    "# We update the object by calculating the sample size\n",
    "mean_equality.calculate(mean_0=1.5, mean_1=2, sigma=1)\n",
    "\n",
    "# we print the sample size\n",
    "print(f\"\\nThe minimum required sample size is: {mean_equality.samp_size}\")"
   ]
  },
  {
   "cell_type": "markdown",
   "id": "7781860b-db06-4829-8b0e-97fe454e2d9e",
   "metadata": {},
   "source": [
    "#### Test for Noninferiority/Superiority\n",
    "\n",
    "Similarly, we have the test for **noninferiority**/**superiority** defined as  \n",
    "\n",
    "$$ H_0: \\epsilon \\leq \\delta \\quad versus \\quad H_a: \\epsilon > \\delta$$ which leads to \n",
    "$$ n = \\frac{(z_{\\alpha} + z_\\beta)^2 \\sigma^2}{(\\epsilon - \\delta)^2}, $$\n",
    "\n",
    "where $\\epsilon = \\mu_0 - \\mu_1$. We can use the same class `SampleSizeMeanOneSample` to calculate the sample size for the test for noninferiority.\n",
    "\n",
    "The test for noinferiority is a one-side test, hence we need to use `two_sides = False`.\n",
    "\n",
    "**Example 5.5** \n",
    "\n",
    "We want to calculate sample size required to test the difference before and after treatment. We have that the average before treatment is 1.5 and the same average after treatment is 2. The standard deviation is 1. \n",
    "\n",
    "What the minimum sample size required **to show that the mean after treatment is no less than before treatment by -0.1**? "
   ]
  },
  {
   "cell_type": "code",
   "execution_count": 9,
   "id": "a70b125d-ee06-45bb-98f6-73c6a3ab3953",
   "metadata": {},
   "outputs": [
    {
     "name": "stdout",
     "output_type": "stream",
     "text": [
      "\n",
      "The minimum required sample size is: 18\n"
     ]
    }
   ],
   "source": [
    "# We instantiate the object with two_sides = False\n",
    "mean_superior = SampleSizeMeanOneSample(two_sides=False)\n",
    "\n",
    "# We update the object by calculating the sample size\n",
    "mean_superior.calculate(mean_0=1.5, mean_1=2, delta=-0.1, sigma=1)\n",
    "\n",
    "# we print the sample size\n",
    "print(f\"\\nThe minimum required sample size is: {mean_superior.samp_size}\")"
   ]
  },
  {
   "cell_type": "markdown",
   "id": "94e1ae41-c51a-4bf1-bd6c-31d27d572f99",
   "metadata": {},
   "source": [
    "#### Test for equivalence \n",
    "\n",
    "With the test for equivalent, the objective is to test the following hypothesis\n",
    "$$ H_0: |\\epsilon|  \\geq \\delta \\quad versus \\quad H_a: |\\epsilon| < \\delta$$ which leads to \n",
    "$$ n = \\frac{(z_{\\alpha} + z_\\beta)^2 \\sigma^2}{(\\epsilon - \\delta)^2}, $$\n",
    "where $\\epsilon = \\mu_0 - \\mu_1$. We can use the class `SampleSizeMeanOneSample` to calculate the sample size for the test for equivalence.\n",
    "\n",
    "The test for equivalence is a two-side test, hence we need to use `two_sides = True` with $\\delta \\neq 0$.\n",
    "\n",
    "**Example 5.6** \n",
    "\n",
    "We want to calculate sample size required to test the difference before and after treatment. We have that the average before treatment is 1.5 and the same average after treatment is 2. The standard deviation is 1. We will consider the before and after treatment equivalent if their different is within 0.1. \n",
    "\n",
    "What the minimum sample size required **to show that the mean before and after treatments are equivalent**? "
   ]
  },
  {
   "cell_type": "code",
   "execution_count": 10,
   "id": "97e1a8f3-d946-4ef4-ae77-9c0dda4f2213",
   "metadata": {},
   "outputs": [
    {
     "name": "stdout",
     "output_type": "stream",
     "text": [
      "\n",
      "The minimum required sample size is: 24\n"
     ]
    }
   ],
   "source": [
    "# We instantiate the object with two_sides = False\n",
    "mean_equivalent = SampleSizeMeanOneSample(two_sides=True)\n",
    "\n",
    "# We update the object by calculating the sample size\n",
    "mean_equivalent.calculate(mean_0=1.5, mean_1=2, delta=-0.1, sigma=1)\n",
    "\n",
    "# we print the sample size\n",
    "print(f\"\\nThe minimum required sample size is: {mean_equivalent.samp_size}\")"
   ]
  },
  {
   "cell_type": "markdown",
   "id": "7f269ade-97c2-43a9-86db-943519294ede",
   "metadata": {},
   "source": [
    "**Exercise 5.3**\n",
    "\n",
    "Let assume that the average income is 45k for men and 35k for women. The standard deviation for both men and women is 5k. What minimum sample size is required to test that average men and women are equal with a power of 85% and $\\alpha=0.05$."
   ]
  },
  {
   "cell_type": "markdown",
   "id": "424c9ab1-0eb6-461f-bb01-3ac8c49cfb94",
   "metadata": {},
   "source": [
    "### Comparing Proportions"
   ]
  },
  {
   "cell_type": "markdown",
   "id": "41d95323-ba17-459b-ab8b-9b771d4ff7c4",
   "metadata": {},
   "source": [
    "To calculate sample size for comparing proportions under one sample, we use the class `SampleSizePropOneSample`.\n",
    "\n",
    "```python\n",
    "SampleSizePropOneSample(\n",
    "    method = \"wald\",         # Only possible value is \"wald\" for now\n",
    "    stratification = False,  # A boolean to indicate where the sampling design is stratified\n",
    "    two_sides = True,        # A boolean to indicate it is a 2-side or 1-side test\n",
    "    params_estimated = True  # A boolean to indicate where the parameters are known or estimated\n",
    ")\n",
    "```\n",
    "\n",
    "The main method of `SampleSizePropOneSample` is `calculate()` with the following signature\n",
    "\n",
    "```python \n",
    " SampleSizePropOneSample.calculate(\n",
    "        prop_0,                # mean value under the null hypothesis\n",
    "        prop_1,                # mean value under the alternative hypothesis\n",
    "        delta = 0.0,           # margin of the test \n",
    "        deff = 1.0,            # design effect, default is 1.\n",
    "        resp_rate = 1.0,       # response rate (proprotion), default is 1.\n",
    "        number_strata = None,  # number of strata, default is None\n",
    "        pop_size = None,       # population size, default is None\n",
    "        alpha = 0.05,          # significance level, default is 0.05\n",
    "        power = 0.80,          # power, deafult is 0.80\n",
    "    )\n",
    "```\n",
    "\n",
    "The API for `SampleSizePropOneSample` is very similar to `SampleSizeMeanOneSample`."
   ]
  },
  {
   "cell_type": "markdown",
   "id": "517e6345-e188-4a91-891d-f2c630ca3cce",
   "metadata": {},
   "source": [
    "**Example 5.7** \n",
    "\n",
    "The goal is to show that a new treatment is at least as good as the reference treatment. Suppose that the proportion of positive outcome to a new treatment is 50% ($p_1=0.50$) and the reference value is 30% ($p_0=0.30$). Also, suppose that a difference of 10% is considered to be of no clinical significance ($\\delta=-0.10$). \n",
    "\n",
    "What is the required sample size for having a power of 80% ($\\beta=0.20$) with $\\alpha=0.05$ "
   ]
  },
  {
   "cell_type": "code",
   "execution_count": 11,
   "id": "f5526183-dc2b-4166-8a25-4ef910aa9988",
   "metadata": {},
   "outputs": [
    {
     "name": "stdout",
     "output_type": "stream",
     "text": [
      "\n",
      "The minimum required sample size is: 18\n"
     ]
    }
   ],
   "source": [
    "# we import the needed class\n",
    "from samplics.sampling import SampleSizePropOneSample\n",
    "\n",
    "# We instantiate the object with two_sides = False\n",
    "prop_noninferior = SampleSizePropOneSample(two_sides=False)\n",
    "\n",
    "# We update the object by calculating the sample size\n",
    "prop_noninferior.calculate(prop_0=0.30, prop_1=0.50, delta=-0.10)\n",
    "\n",
    "# we print the sample size\n",
    "print(f\"\\nThe minimum required sample size is: {prop_noninferior.samp_size}\")"
   ]
  },
  {
   "cell_type": "markdown",
   "id": "7c16d6d2-2be0-4076-b9b3-8fd78747dfb9",
   "metadata": {},
   "source": [
    "**Exercise 5.4**\n",
    "\n",
    "Re-calculate the minimum required sample size as in Example 5.7 with $\\delta = -0.05$ and $\\beta=0.15$."
   ]
  },
  {
   "cell_type": "markdown",
   "id": "b356baf6-bf1c-43e3-97f5-94d58b6f6b07",
   "metadata": {
    "tags": [],
    "toc-hr-collapsed": true
   },
   "source": [
    "## Two-Samples Design"
   ]
  },
  {
   "cell_type": "markdown",
   "id": "a4c88aed-b50b-4761-b19b-f6d989179342",
   "metadata": {},
   "source": [
    "In situations where we are interested in testing means or proportions from different populations, the equations for the sample size calculation change. "
   ]
  },
  {
   "cell_type": "markdown",
   "id": "64738e75-7816-421f-9176-d3acf65e1135",
   "metadata": {},
   "source": [
    "### Comparing of Means"
   ]
  },
  {
   "cell_type": "markdown",
   "id": "2571d172-4ae6-408b-b205-1ab7c1f72c08",
   "metadata": {},
   "source": [
    "With `samplics`, we can use the class `SampleSizeMeanTwoSample` to conduct these tests associated with **two-sample** design for the means.\n",
    "\n",
    "\n",
    "```python\n",
    "SampleSizeMeanTwoSample(\n",
    "    method = \"wald\",         # Only possible value is \"wald\" for now\n",
    "    stratification = False,  # A boolean to indicate where the sampling design is stratified\n",
    "    two_sides = True,        # A boolean to indicate it is a 2-side or 1-side test\n",
    "    params_estimated = True  # A boolean to indicate where the parameters are known or estimated\n",
    ")\n",
    "```\n",
    "\n",
    "The main method of `SampleSizeOneMean` is `calculate()` with the following signature\n",
    "\n",
    "```python \n",
    " SampleSizeMeanTwoSample.calculate(\n",
    "        mean_1,                # first mean \n",
    "        mean_2,                # second mean \n",
    "        sigma_1,               # standard deviation\n",
    "        sigma_2 = None,        # standard deviation\n",
    "        equal_variance = 1,    # boolean to indicate if variances are equal\n",
    "        kappa = 1,             # factor to distribute the sample n1 = kappa*n2\n",
    "        delta = 0.0,           # margin of the test\n",
    "        deff = 1.0,            # design effect, default is 1.\n",
    "        resp_rate = 1.0,       # response rate (proprotion), default is 1.\n",
    "        number_strata = None,  # number of strata, default is None\n",
    "        pop_size = None,       # population size, default is None\n",
    "        alpha = 0.05,          # significance level, default is 0.05\n",
    "        power = 0.80,          # power, deafult is 0.80\n",
    "    )\n",
    "```"
   ]
  },
  {
   "cell_type": "markdown",
   "id": "ac4e5a85-4f68-46a8-a335-5205092c965f",
   "metadata": {},
   "source": [
    "#### Test for Equality (Equal Variance)\n",
    "\n",
    "Let's assume we have one sample and we are interested in the following hypotheses\n",
    "\n",
    "$$ H_0: \\mu_1 = \\mu_2 \\quad versus \\quad H_a: \\mu_1 \\neq \\mu_2$$\n",
    "\n",
    "The equation for the sample size needed to achieve power $1-\\beta$ is\n",
    "\n",
    "$$ n_1 = \\kappa n_2 \\quad and \\quad n_2 = \\frac{(z_{\\alpha/2} + z_\\beta)^2 \\sigma^2(1+1/\\kappa)}{\\epsilon^2},$$\n",
    "\n",
    "where $\\epsilon$ is the difference $\\mu_2 - \\mu_1$ and $\\kappa$ is the factor to control the balance of the samples. "
   ]
  },
  {
   "cell_type": "markdown",
   "id": "99eee431-6741-4a27-a275-dc6c4da5f21d",
   "metadata": {},
   "source": [
    "**Example 5.8** \n",
    "\n",
    "Suppose that we want to conduct as study to compare the difference in blood pressure between white and black people. Based on historical data, we have that white have an average systolic blood pressure (SBP) of 120 mm Hg and blacks have an average SBP of 135 mm Hg. Both populations (whites and blacks) have the same standard error of 10.\n",
    "\n",
    "Given that we want 2/3 of whites and 1/3 of blacks in our samples,what the minimum sample size required to test for equality of SBP between whites and blacks with a power of 80% and $\\alpha=0.05$? "
   ]
  },
  {
   "cell_type": "code",
   "execution_count": 12,
   "id": "a663b0bb-c3b1-4808-891c-9915f75dd2e3",
   "metadata": {},
   "outputs": [
    {
     "name": "stdout",
     "output_type": "stream",
     "text": [
      "\n",
      "The minimum required sample sizes are: (212, 106)\n"
     ]
    }
   ],
   "source": [
    "# we import the needed class\n",
    "from samplics.sampling import SampleSizeMeanTwoSample\n",
    "\n",
    "# We instantiate the object with two_sides = True\n",
    "mean_equality2 = SampleSizeMeanTwoSample(two_sides=True)\n",
    "\n",
    "# We update the object by calculating the sample size\n",
    "mean_equality2.calculate(mean_1=120, mean_2=125, sigma_1=15, equal_variance=True, kappa=2)\n",
    "\n",
    "# we print the sample size\n",
    "print(f\"\\nThe minimum required sample sizes are: {mean_equality2.samp_size}\")"
   ]
  },
  {
   "cell_type": "markdown",
   "id": "8e406e8f-b13b-4373-b8d7-7f46f215ad43",
   "metadata": {},
   "source": [
    "**Exercise 5.5**\n",
    "\n",
    "How would you change the code in the cell above to ensure that the sample size for whites is half of the one for blacks?"
   ]
  },
  {
   "cell_type": "markdown",
   "id": "6b79cd86-1838-4c0c-8e92-a459ce3e972d",
   "metadata": {},
   "source": [
    "#### Test for Noninferiority/Superiority and Equivalence (Equal Variance)\n",
    "\n",
    "Similarly to the one sample situation, we can compute the minimum required sample sizes for both tests\n",
    "\n",
    "The sample sizes for the test for **noninferiority**/**superiority** ($H_0: \\epsilon \\leq \\delta \\quad versus \\quad H_a: \\epsilon > \\delta$) are\n",
    "\n",
    "$$ n_1 = \\kappa n_2 \\quad and \\quad n_2 = \\frac{(z_\\alpha + z_\\beta)^2 \\sigma^2(1+1/\\kappa)}{(\\epsilon-\\delta)^2},$$\n",
    "\n",
    "The sample sizes for the test for **equivalence** ($H_0: |\\epsilon| \\geq \\delta \\quad versus \\quad H_a: |\\epsilon| < \\delta$) are\n",
    "\n",
    "$$ n_1 = \\kappa n_2 \\quad and \\quad n_2 = \\frac{(z_\\alpha + z_{\\beta/2})^2 \\sigma^2(1+1/\\kappa)}{(\\delta-|\\epsilon|)^2},$$\n",
    "\n",
    "\n",
    "where $\\epsilon = \\mu_0 - \\mu_1$. \n",
    "\n",
    "We can use the same class `SampleSizeMeanOneSample` to calculate the sample size for the test for noninferiority.\n",
    "\n",
    "The test for noinferiority is a one-side test, hence we need to use `two_sides = False`. "
   ]
  },
  {
   "cell_type": "markdown",
   "id": "9f1e6e60-f8dc-4c16-81a2-3d12b7915726",
   "metadata": {},
   "source": [
    "### Comparing Proportions"
   ]
  },
  {
   "cell_type": "markdown",
   "id": "0d794682-3661-4965-b756-58fa8aa23c97",
   "metadata": {},
   "source": [
    "With `samplics`, we can use the class `SampleSizePropTwoSample` to conduct these tests associated with **two-sample** design for the proportions.\n",
    "\n",
    "\n",
    "```python\n",
    "SampleSizePropTwoSample(\n",
    "    method = \"wald\",         # Only possible value is \"wald\" for now\n",
    "    stratification = False,  # A boolean to indicate where the sampling design is stratified\n",
    "    two_sides = True,        # A boolean to indicate it is a 2-side or 1-side test\n",
    "    params_estimated = True  # A boolean to indicate where the parameters are known or estimated\n",
    ")\n",
    "```\n",
    "\n",
    "The main method of `SampleSizeOneMean` is `calculate()` with the following signature\n",
    "\n",
    "```python \n",
    " SampleSizePropTwoSample.calculate(\n",
    "        prop_1,                # first proportion \n",
    "        prop_2,                # second proportion\n",
    "        kappa = 1,             # factor to distribute the sample n1 = kappa*n2\n",
    "        delta = 0.0,           # margin of the test\n",
    "        deff = 1.0,            # design effect, default is 1.\n",
    "        resp_rate = 1.0,       # response rate (proprotion), default is 1.\n",
    "        number_strata = None,  # number of strata, default is None\n",
    "        pop_size = None,       # population size, default is None\n",
    "        alpha = 0.05,          # significance level, default is 0.05\n",
    "        power = 0.80,          # power, deafult is 0.80\n",
    "    )\n",
    "```"
   ]
  },
  {
   "cell_type": "markdown",
   "id": "8b3ffdd7-ccf7-48ef-a336-ac7cf94e8734",
   "metadata": {},
   "source": [
    "**Example 5.9** \n",
    "\n",
    "Suppose that we want to conduct as study to compare the prevalence of obesity between white and black people. Based on historical data, we have that white have that on average the prevalence of obesity is 42% among whites and 50% among blacks.\n",
    "\n",
    "Given that we want 2/3 of whites and 1/3 of blacks in our samples,what the minimum sample size required to test for equality of the prevalence of obesity between whites and blacks with a power of 80% and $\\alpha=0.05$? "
   ]
  },
  {
   "cell_type": "code",
   "execution_count": 13,
   "id": "1c690bc6-ab8f-48f8-ae4f-6a3f0ecc9a4d",
   "metadata": {},
   "outputs": [
    {
     "name": "stdout",
     "output_type": "stream",
     "text": [
      "\n",
      "The minimum required sample sizes are: (912, 456)\n"
     ]
    }
   ],
   "source": [
    "# we import the needed class\n",
    "from samplics.sampling import SampleSizePropTwoSample\n",
    "\n",
    "# We instantiate the object with two_sides = True\n",
    "prop_equality2 = SampleSizePropTwoSample(two_sides=True)\n",
    "\n",
    "# We update the object by calculating the sample size\n",
    "prop_equality2.calculate(prop_1=0.42, prop_2=0.50, kappa=2)\n",
    "\n",
    "# we print the sample size\n",
    "print(f\"\\nThe minimum required sample sizes are: {prop_equality2.samp_size}\")"
   ]
  },
  {
   "cell_type": "markdown",
   "id": "791eb18f-ce14-47df-b325-372638096a5e",
   "metadata": {
    "tags": []
   },
   "source": [
    "## Stratified Design"
   ]
  },
  {
   "cell_type": "markdown",
   "id": "4cf4581c-00c7-4174-aff5-d8e35b1d045b",
   "metadata": {},
   "source": [
    "In a stratified design, the population is divided into $H$ partitions or strata. \n",
    "\n",
    "Sample is selected independently from each stratum. \n",
    "\n",
    "We can consider two approaches for sample size calculation under stratified design. "
   ]
  },
  {
   "cell_type": "markdown",
   "id": "2b411bbe-59ac-46d9-8254-08667c8f8ea1",
   "metadata": {},
   "source": [
    "The above `samplics` APIs integrates the notion of stratification.\n",
    "\n",
    "When instantiating the objects, we can indicate that it's a stratified design using `stratification = True`. \n",
    "\n",
    "The parameters should them be provided by stratum using Python dictionairies. \n",
    "\n",
    "For example, assume that we have a stratified design with four strata: `North`, `South`, `West`, and `East`. We can provide the means for the strata as follow\n",
    "\n",
    "```python\n",
    "prevalence = {\n",
    "    \"North\": 0.50,\n",
    "    \"South\": 0.65,\n",
    "    \"West\": 0.55,\n",
    "    \"East\": 0.45\n",
    "}\n",
    "```"
   ]
  },
  {
   "cell_type": "markdown",
   "id": "bca19713-1bc4-4c6a-88b6-b95525a5c4b5",
   "metadata": {},
   "source": [
    "**Example 5.10** \n",
    "\n",
    "Assume that we have a stratified design with four strata: `North`, `South`, `West`, and `East`. We want to conduct a study about the prevalence of obesity. From previous studies, we have that:\n",
    "- Prevalence rates were 50% in the North, 65% in the South, 55% in the West, and 45% in the East. \n",
    "- Response rates were 90% in the North, 85% in the South, 85% in the West, and 70% in the East. \n",
    "- Design effects were 1.2 in the North, 1.1 in the South, 1.4 in the West, and 1.7 in the East. \n",
    "\n",
    "What are the required minimum sample sizes for the strata to achieve a margin of error of 7%?"
   ]
  },
  {
   "cell_type": "code",
   "execution_count": 14,
   "id": "5917363c-8d2f-4121-8138-aae1f68084ff",
   "metadata": {},
   "outputs": [],
   "source": [
    "# Enter the data into Python dictonaries\n",
    "\n",
    "prevalence = {\"North\": 0.50, \"South\": 0.65, \"West\": 0.55, \"East\": 0.45}\n",
    "\n",
    "response = {\"North\": 0.90, \"South\": 0.85, \"West\": 0.85, \"East\": 0.70}\n",
    "\n",
    "deff_c = {\"North\": 1.2, \"South\": 1.1, \"West\": 1.4, \"East\": 1.7}"
   ]
  },
  {
   "cell_type": "markdown",
   "id": "7dca3390-eb85-42ec-b64f-d6302a97f824",
   "metadata": {},
   "source": [
    "\n",
    "Then we can use the parameters to calculate the sample sizes\n"
   ]
  },
  {
   "cell_type": "code",
   "execution_count": 15,
   "id": "f3aebb52-aaa4-42c4-ba94-06a344d1c146",
   "metadata": {},
   "outputs": [
    {
     "name": "stdout",
     "output_type": "stream",
     "text": [
      "\n",
      "The minimum required sample size is: {'North': 236, 'South': 197, 'West': 272, 'East': 330}\n"
     ]
    }
   ],
   "source": [
    "# Instantiate an object SampleSize for a proportion\n",
    "obesity_study = SampleSize(parameter=\"proportion\", stratification=True)\n",
    "\n",
    "# Calculate the sample size for the expected proportion and the desired margin of error\n",
    "obesity_study.calculate(target=prevalence, half_ci=0.07, deff=deff_c, resp_rate=response)\n",
    "\n",
    "# Print the sample size\n",
    "print(f\"\\nThe minimum required sample size is: {obesity_study.samp_size}\")"
   ]
  },
  {
   "cell_type": "markdown",
   "id": "71b273fb-6632-42c2-9569-d932afe08210",
   "metadata": {},
   "source": [
    "\n",
    "If more convenient, we can use the method `to_dataframe()` to transform the data into a Pandas DataFrame\n"
   ]
  },
  {
   "cell_type": "code",
   "execution_count": 16,
   "id": "d3b0eec7-6a51-4e16-8a24-9c6580538fb7",
   "metadata": {},
   "outputs": [
    {
     "data": {
      "text/html": [
       "<div>\n",
       "<style scoped>\n",
       "    .dataframe tbody tr th:only-of-type {\n",
       "        vertical-align: middle;\n",
       "    }\n",
       "\n",
       "    .dataframe tbody tr th {\n",
       "        vertical-align: top;\n",
       "    }\n",
       "\n",
       "    .dataframe thead th {\n",
       "        text-align: right;\n",
       "    }\n",
       "</style>\n",
       "<table border=\"1\" class=\"dataframe\">\n",
       "  <thead>\n",
       "    <tr style=\"text-align: right;\">\n",
       "      <th></th>\n",
       "      <th>_parameter</th>\n",
       "      <th>_stratum</th>\n",
       "      <th>_target</th>\n",
       "      <th>_sigma</th>\n",
       "      <th>_half_ci</th>\n",
       "      <th>_samp_size</th>\n",
       "    </tr>\n",
       "  </thead>\n",
       "  <tbody>\n",
       "    <tr>\n",
       "      <th>0</th>\n",
       "      <td>proportion</td>\n",
       "      <td>North</td>\n",
       "      <td>0.50</td>\n",
       "      <td>0.2500</td>\n",
       "      <td>0.07</td>\n",
       "      <td>236</td>\n",
       "    </tr>\n",
       "    <tr>\n",
       "      <th>1</th>\n",
       "      <td>proportion</td>\n",
       "      <td>South</td>\n",
       "      <td>0.65</td>\n",
       "      <td>0.2275</td>\n",
       "      <td>0.07</td>\n",
       "      <td>197</td>\n",
       "    </tr>\n",
       "    <tr>\n",
       "      <th>2</th>\n",
       "      <td>proportion</td>\n",
       "      <td>West</td>\n",
       "      <td>0.55</td>\n",
       "      <td>0.2475</td>\n",
       "      <td>0.07</td>\n",
       "      <td>272</td>\n",
       "    </tr>\n",
       "    <tr>\n",
       "      <th>3</th>\n",
       "      <td>proportion</td>\n",
       "      <td>East</td>\n",
       "      <td>0.45</td>\n",
       "      <td>0.2475</td>\n",
       "      <td>0.07</td>\n",
       "      <td>330</td>\n",
       "    </tr>\n",
       "  </tbody>\n",
       "</table>\n",
       "</div>"
      ],
      "text/plain": [
       "   _parameter _stratum  _target  _sigma  _half_ci  _samp_size\n",
       "0  proportion    North     0.50  0.2500      0.07         236\n",
       "1  proportion    South     0.65  0.2275      0.07         197\n",
       "2  proportion     West     0.55  0.2475      0.07         272\n",
       "3  proportion     East     0.45  0.2475      0.07         330"
      ]
     },
     "execution_count": 16,
     "metadata": {},
     "output_type": "execute_result"
    }
   ],
   "source": [
    "obesity_study.to_dataframe()"
   ]
  },
  {
   "cell_type": "markdown",
   "id": "b54b94a6-3900-4f24-8cf5-d6e812629f9f",
   "metadata": {},
   "source": [
    "**Exercise 5.6**\n",
    "\n",
    "Assume that we want to calculate sample size for a stratified study. The stratification variable is race and it takes three values: black, hispanic, and white.  From previous studies, we have the following data on income\n",
    "\n",
    "```python\n",
    "mean_women = {\"black\": 25000, \"hispanic\": 30000, \"white\":35000}\n",
    "mean_men = {\"black\": 35000, \"hispanic\": 33000, \"white\":55000}\n",
    "sigma = {\"black\": 1200, \"hispanic\": 3000, \"white\":3200}\n",
    "```\n",
    "\n",
    "For each of these groups, we want to test whether men and women have the same income on average. Calculate the required sample size for each group for a power of 80% and $\\alpha=0.05$. We will assume that both the response rate and the design effect are equal to 1."
   ]
  }
 ],
 "metadata": {
  "kernelspec": {
   "display_name": "Python 3 (ipykernel)",
   "language": "python",
   "name": "python3"
  },
  "language_info": {
   "codemirror_mode": {
    "name": "ipython",
    "version": 3
   },
   "file_extension": ".py",
   "mimetype": "text/x-python",
   "name": "python",
   "nbconvert_exporter": "python",
   "pygments_lexer": "ipython3",
   "version": "3.10.2"
  }
 },
 "nbformat": 4,
 "nbformat_minor": 5
}
