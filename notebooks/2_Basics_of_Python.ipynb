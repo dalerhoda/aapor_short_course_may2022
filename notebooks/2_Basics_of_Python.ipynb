{
 "cells": [
  {
   "cell_type": "markdown",
   "metadata": {
    "tags": []
   },
   "source": [
    "# Introduction to Python"
   ]
  },
  {
   "cell_type": "markdown",
   "metadata": {},
   "source": [
    "Beginner's Guide to Python: https://wiki.python.org/moin/BeginnersGuide \n",
    "\n",
    "The Python Tutorial: https://docs.python.org/3/tutorial/index.html\n",
    "\n",
    "A few selected Python packages:\n",
    "- Numpy: https://numpy.org/\n",
    "- Pandas: https://pandas.pydata.org/\n",
    "- Scipy: https://scipy.org/\n",
    "- Statsmodels: https://www.statsmodels.org/stable/index.html"
   ]
  },
  {
   "cell_type": "markdown",
   "metadata": {
    "tags": []
   },
   "source": [
    "## Basic Python"
   ]
  },
  {
   "cell_type": "markdown",
   "metadata": {
    "tags": []
   },
   "source": [
    "### String "
   ]
  },
  {
   "cell_type": "markdown",
   "metadata": {
    "tags": []
   },
   "source": [
    "Use either single or double quotation marks\n",
    "\n",
    "`'Hello World'` same as `\"Hello World\"` - both are constant strings in Python\n",
    "\n",
    "Use the `print()` function to display a string\n",
    "\n",
    "Reference:\n",
    "- https://docs.python.org/3/library/string.html"
   ]
  },
  {
   "cell_type": "code",
   "execution_count": 1,
   "metadata": {},
   "outputs": [
    {
     "name": "stdout",
     "output_type": "stream",
     "text": [
      "Hello World\n"
     ]
    }
   ],
   "source": [
    "print(\"Hello World\")"
   ]
  },
  {
   "cell_type": "code",
   "execution_count": 2,
   "metadata": {},
   "outputs": [
    {
     "data": {
      "text/plain": [
       "str"
      ]
     },
     "execution_count": 2,
     "metadata": {},
     "output_type": "execute_result"
    }
   ],
   "source": [
    "type(\"Hello World\")"
   ]
  },
  {
   "cell_type": "markdown",
   "metadata": {},
   "source": [
    "#### Formating Strings\n",
    "It is often important to be able to format a `String`"
   ]
  },
  {
   "cell_type": "code",
   "execution_count": 3,
   "metadata": {},
   "outputs": [
    {
     "name": "stdout",
     "output_type": "stream",
     "text": [
      "Hello \n",
      " World\n",
      "\n",
      "Hello \t World\n"
     ]
    }
   ],
   "source": [
    "# New line\n",
    "print(\"Hello \\n World\\n\")\n",
    "\n",
    "# Horizontal TAB\n",
    "print(\"Hello \\t World\")"
   ]
  },
  {
   "cell_type": "markdown",
   "metadata": {},
   "source": [
    "#### Sring Methods for more formatting\n",
    "`String` has multiple methods\n",
    "\n",
    "Reference: https://docs.python.org/3/library/stdtypes.html#string-methods"
   ]
  },
  {
   "cell_type": "code",
   "execution_count": 4,
   "metadata": {},
   "outputs": [
    {
     "name": "stdout",
     "output_type": "stream",
     "text": [
      "The result of \"Hello World\".capitalize() is\n",
      "Hello world\n",
      "\n",
      "\n",
      "The result of \"Hello World\".upper() is\n",
      "HELLO WORLD\n",
      "\n",
      "\n",
      "The result of \"Hello World\".lower() is\n",
      "hello world\n",
      "\n",
      "\n",
      "The result of \"Hello World\".title() is\n",
      "Hello World\n"
     ]
    }
   ],
   "source": [
    "# capitalize() : converts the first character to upper case\n",
    "print('The result of \"Hello World\".capitalize() is')\n",
    "print(\"Hello World\".capitalize())\n",
    "print(\"\\n\")\n",
    "\n",
    "# upper() : converts all characters to upper case\n",
    "print('The result of \"Hello World\".upper() is')\n",
    "print(\"Hello World\".upper())\n",
    "print(\"\\n\")\n",
    "\n",
    "# lower() : converts all characters to lower case\n",
    "print('The result of \"Hello World\".lower() is')\n",
    "print(\"Hello World\".lower())\n",
    "print(\"\\n\")\n",
    "\n",
    "# title() : converts the first character of each word to upper case\n",
    "print('The result of \"Hello World\".title() is')\n",
    "print(\"hello world\".title())"
   ]
  },
  {
   "cell_type": "markdown",
   "metadata": {},
   "source": [
    "#### More String Methods\n",
    "\n",
    "Python has many built-in String methods for working with string of characters.\n",
    "\n",
    "A few examples are shown below. Consult the reference link for a more complete list.\n",
    "\n",
    "Reference: https://docs.python.org/3/library/stdtypes.html#string-methods"
   ]
  },
  {
   "cell_type": "code",
   "execution_count": 5,
   "metadata": {},
   "outputs": [
    {
     "name": "stdout",
     "output_type": "stream",
     "text": [
      "I like Maths\n",
      "I like Statistics\n"
     ]
    }
   ],
   "source": [
    "txt = \"I like Maths\"\n",
    "print(txt)\n",
    "\n",
    "x = txt.replace(\"Maths\", \"Statistics\")\n",
    "print(x)"
   ]
  },
  {
   "cell_type": "code",
   "execution_count": 6,
   "metadata": {},
   "outputs": [
    {
     "name": "stdout",
     "output_type": "stream",
     "text": [
      "['I', 'like', 'Maths', 'but', 'I', 'love', 'Statistics']\n"
     ]
    }
   ],
   "source": [
    "txt = \"I like Maths but I love Statistics\"\n",
    "\n",
    "x = txt.split()\n",
    "\n",
    "print(x)"
   ]
  },
  {
   "cell_type": "markdown",
   "metadata": {},
   "source": [
    "#### The `f-strings` String Formating Syntax"
   ]
  },
  {
   "cell_type": "code",
   "execution_count": 7,
   "metadata": {},
   "outputs": [
    {
     "name": "stdout",
     "output_type": "stream",
     "text": [
      "The 2022 AAPOR conference is in Chigaco\n"
     ]
    }
   ],
   "source": [
    "# Use Python variables inside the quotation marks\n",
    "\n",
    "city = \"Chigaco\"\n",
    "year = 2022\n",
    "txt = f\"The {year} AAPOR conference is in {city}\"\n",
    "\n",
    "print(txt)"
   ]
  },
  {
   "cell_type": "code",
   "execution_count": 8,
   "metadata": {},
   "outputs": [
    {
     "name": "stdout",
     "output_type": "stream",
     "text": [
      "5\n",
      "HELLO WORLD\n"
     ]
    }
   ],
   "source": [
    "# We can run arbitrary Python code inside the quotation marks\n",
    "\n",
    "txt1 = f\"{2 + 3}\"\n",
    "print(txt1)\n",
    "\n",
    "txt2 = f\"{'Hello World'.upper()}\"\n",
    "print(txt2)"
   ]
  },
  {
   "cell_type": "markdown",
   "metadata": {},
   "source": [
    "#### Multiline String\n",
    "\n",
    "Use thripe-quoted for multiline strings i.e. `\"\"\" \"\"\"`"
   ]
  },
  {
   "cell_type": "code",
   "execution_count": 9,
   "metadata": {},
   "outputs": [
    {
     "name": "stdout",
     "output_type": "stream",
     "text": [
      "\n",
      "Title: Introduction to Python\n",
      "Author: Mamadou S Diallo\n",
      "Date: 11 May 2022\n",
      "\n"
     ]
    }
   ],
   "source": [
    "print(\n",
    "    \"\"\"\n",
    "Title: Introduction to Python\n",
    "Author: Mamadou S Diallo\n",
    "Date: 11 May 2022\n",
    "\"\"\"\n",
    ")"
   ]
  },
  {
   "cell_type": "markdown",
   "metadata": {
    "tags": []
   },
   "source": [
    "### Numbers, Math, and Statistics"
   ]
  },
  {
   "cell_type": "markdown",
   "metadata": {},
   "source": [
    "Reference: \n",
    "- Numeric types: https://docs.python.org/3/library/numbers.html \n",
    "- Math library: https://docs.python.org/3/library/math.html "
   ]
  },
  {
   "cell_type": "code",
   "execution_count": 10,
   "metadata": {},
   "outputs": [
    {
     "data": {
      "text/plain": [
       "float"
      ]
     },
     "execution_count": 10,
     "metadata": {},
     "output_type": "execute_result"
    }
   ],
   "source": [
    "x = 3.5\n",
    "type(x)"
   ]
  },
  {
   "cell_type": "code",
   "execution_count": 11,
   "metadata": {},
   "outputs": [
    {
     "name": "stdout",
     "output_type": "stream",
     "text": [
      "Addition: the answer of 5+2 is 7 \n",
      "\n",
      "Substraction: the answer of 5-2 is 3 \n",
      "\n",
      "Float division: the answer of 5/2 is 2.5 \n",
      "\n",
      "Integer division (rounds down the answer): the answer of 5//2 is 2 \n",
      "\n",
      "Modulos operation: the answer of 5%2 is 1\n"
     ]
    }
   ],
   "source": [
    "# Basic operations\n",
    "\n",
    "print(f\"Addition: the answer of 5+2 is {5+2} \\n\")\n",
    "\n",
    "print(f\"Substraction: the answer of 5-2 is {5-2} \\n\")\n",
    "\n",
    "print(f\"Float division: the answer of 5/2 is {5/2} \\n\")\n",
    "\n",
    "print(f\"Integer division (rounds down the answer): the answer of 5//2 is {5//2} \\n\")\n",
    "\n",
    "print(f\"Modulos operation: the answer of 5%2 is {5%2}\")"
   ]
  },
  {
   "cell_type": "markdown",
   "metadata": {},
   "source": [
    "#### Built-in Math Functions\n",
    "\n",
    "Python has built-in functions that are part of the core language. Below, some of the built-in math functions are shown. \n",
    "\n",
    "Reference: https://docs.python.org/3/library/functions.html"
   ]
  },
  {
   "cell_type": "code",
   "execution_count": 12,
   "metadata": {},
   "outputs": [
    {
     "name": "stdout",
     "output_type": "stream",
     "text": [
      "The answer for abs(-3) is 3 \n",
      "\n",
      "The answer for sum([-3, 3]) is 0 \n",
      "\n",
      "The answer for pow(2, 3) is 8 \n",
      "\n",
      "The answer for round(2.3456, 3) is 2.346 \n",
      "\n",
      "The answer for divmod(5, 2) is (2, 1) \n",
      "\n"
     ]
    }
   ],
   "source": [
    "# Absolute value\n",
    "print(f\"The answer for abs(-3) is {abs(-3)} \\n\")\n",
    "\n",
    "# Sum\n",
    "print(f\"The answer for sum([-3, 3]) is {sum([-3, 3])} \\n\")  # sum() takes an iterable\n",
    "\n",
    "# Power\n",
    "print(f\"The answer for pow(2, 3) is {pow(2,3)} \\n\")\n",
    "\n",
    "# Rounding\n",
    "print(f\"The answer for round(2.3456, 3) is {round(2.3456,3)} \\n\")\n",
    "\n",
    "# Integer divison returns quotient and remainder\n",
    "print(f\"The answer for divmod(5, 2) is {divmod(5,2)} \\n\")"
   ]
  },
  {
   "cell_type": "markdown",
   "metadata": {},
   "source": [
    "#### The Python Math Module\n",
    "\n",
    "This Python module provides access to the mathematical functions defined by the C standard. \n",
    "\n",
    "To use these functions, we need to first import Math module `Import math`.\n",
    "\n",
    "Reference: https://docs.python.org/3/library/math.html"
   ]
  },
  {
   "cell_type": "code",
   "execution_count": 13,
   "metadata": {},
   "outputs": [
    {
     "name": "stdout",
     "output_type": "stream",
     "text": [
      "Basic numbers\n",
      "The answer for math.fabs(-2.3) is 2.3\n",
      "The answer for math.ceil(2.3) is 3\n",
      "The answer for math.floor(2.3) is 2\n",
      "The answer for math.fsum([2, 3, 4]) is 9.0\n",
      "\n",
      "Power and logarithmic\n",
      "The answer for math.exp(3) is 20.085536923187668\n",
      "The answer for math.log(3) is 1.0986122886681098\n",
      "The answer for math.log2(3) is 1.584962500721156\n",
      "The answer for math.log10(3) is 0.47712125471966244\n",
      "The answer for math.pow(2, 3) is 8.0\n",
      "The answer for math.sqrt(3) is 1.7320508075688772\n",
      "\n",
      "Trigonometric\n",
      "The answer for math.acos(0.3) is 1.266103672779499\n",
      "The answer for math.sin(3) is 0.1411200080598672\n",
      "The answer for math.tanh(3) is 0.9950547536867305\n",
      "\n",
      "Number-theory and combinatorics\n",
      "The answer for math.gcd(15, 30, 5) is 3\n",
      "The answer for math.comb(5, 2) is 10\n",
      "The answer for math.perm(5, 2) is 20\n",
      "The answer for math.perm(5, 2) is 120\n",
      "The answer for math.factorial(3) is 6\n",
      "\n",
      "Special functions\n",
      "The answer for math.erf(3) is 0.9999779095030015\n",
      "The answer for math.erfc(3) is 2.2090496998585438e-05\n",
      "The answer for math.gamma(3) is 2.0\n",
      "\n",
      "Constants\n",
      "The answer for math.pi is 3.141592653589793\n",
      "The answer for math.e is 2.718281828459045\n",
      "The answer for math.tau is 6.283185307179586\n",
      "The answer for math.tau is inf\n",
      "The answer for math.tau is nan\n"
     ]
    }
   ],
   "source": [
    "# A few examples of the functions from the Python Math module\n",
    "\n",
    "import math\n",
    "\n",
    "print(\"Basic numbers\")\n",
    "print(f\"The answer for math.fabs(-2.3) is {math.fabs(-2.3)}\")\n",
    "print(f\"The answer for math.ceil(2.3) is {math.ceil(2.3)}\")\n",
    "print(f\"The answer for math.floor(2.3) is {math.floor(2.3)}\")\n",
    "print(f\"The answer for math.fsum([2, 3, 4]) is {math.fsum([2, 3, 4])}\")\n",
    "\n",
    "print(\"\\nPower and logarithmic\")\n",
    "print(\n",
    "    f\"The answer for math.exp(3) is {math.exp(3)}\"\n",
    ")  # retrun e^x where x = 2.718281... is the base of natural logarithms\n",
    "print(f\"The answer for math.log(3) is {math.log(3)}\")\n",
    "print(f\"The answer for math.log2(3) is {math.log2(3)}\")\n",
    "print(f\"The answer for math.log10(3) is {math.log10(3)}\")\n",
    "print(f\"The answer for math.pow(2, 3) is {math.pow(2, 3)}\")\n",
    "print(f\"The answer for math.sqrt(3) is {math.sqrt(3)}\")\n",
    "\n",
    "print(\"\\nTrigonometric\")\n",
    "print(f\"The answer for math.acos(0.3) is {math.acos(0.3)}\")  # arc cosine\n",
    "print(f\"The answer for math.sin(3) is {math.sin(3)}\")  # sine\n",
    "print(f\"The answer for math.tanh(3) is {math.tanh(3)}\")  # hyperbolic tangent\n",
    "\n",
    "print(\"\\nNumber-theory and combinatorics\")\n",
    "print(f\"The answer for math.gcd(15, 30, 5) is {math.gcd(15, 30, 9)}\")  # greatest common divisor\n",
    "print(\n",
    "    f\"The answer for math.comb(5, 2) is {math.comb(5, 2)}\"\n",
    ")  # C(n, k) : number of ways to chose K items from n items - WITHOUT order\n",
    "print(\n",
    "    f\"The answer for math.perm(5, 2) is {math.perm(5, 2)}\"\n",
    ")  # P(n, k) : number of ways to chose K items from n items - WITH order\n",
    "print(f\"The answer for math.perm(5, 2) is {math.perm(5)}\")  # P(n, k=None) : Permutation of n items\n",
    "print(f\"The answer for math.factorial(3) is {math.factorial(3)}\")  # factorial\n",
    "\n",
    "print(\"\\nSpecial functions\")\n",
    "print(f\"The answer for math.erf(3) is {math.erf(3)}\")  # error function\n",
    "print(f\"The answer for math.erfc(3) is {math.erfc(3)}\")  # complementary error function\n",
    "print(f\"The answer for math.gamma(3) is {math.gamma(3)}\")  # gamma function\n",
    "\n",
    "print(\"\\nConstants\")\n",
    "print(f\"The answer for math.pi is {math.pi}\")  # \\pi = 3.1441592\n",
    "print(f\"The answer for math.e is {math.e}\")  # e = 2.718281...\n",
    "print(f\"The answer for math.tau is {math.tau}\")  # \\tau = 6.283185...\n",
    "print(f\"The answer for math.tau is {math.inf}\")  # infinity, for negative numbers use -math.inf\n",
    "print(f\"The answer for math.tau is {math.nan}\")  # not a number"
   ]
  },
  {
   "cell_type": "markdown",
   "metadata": {},
   "source": [
    "#### The Python Statistics Module"
   ]
  },
  {
   "cell_type": "code",
   "execution_count": 14,
   "metadata": {},
   "outputs": [
    {
     "name": "stdout",
     "output_type": "stream",
     "text": [
      "The answer of statistics.mean([1,2,3,4,5]) is 12\n",
      "The answer of statistics.median([1,2,3,4,5]) is 3\n",
      "The answer of statistics.mode(['red', 'green', 'blue', 'red']) is red\n",
      "The answer of statistics.stdev([1,2,3,4,5]) is 1.5811388300841898\n",
      "The answer of statistics.variance([1,2,3,4,5]) is 2.5\n",
      "The answer of statistics.covariance([1,2,3,4,5],[5,4,3,2,1]) is -2.5\n",
      "The answer of statistics.correlation([1,2,3,4,5],[5,4,3,2,1]) is -1.0\n",
      "The answer of statistics.quantiles([1,2,3,4,5,6,7,8,9,10], n=4) is [2.75, 5.5, 8.25]\n"
     ]
    }
   ],
   "source": [
    "# A few examples of the functions from the Python Math module\n",
    "\n",
    "import statistics\n",
    "\n",
    "print(f\"The answer of statistics.mean([1,2,3,4,5]) is {statistics.mean([1,2,3,4,50])}\")\n",
    "print(f\"The answer of statistics.median([1,2,3,4,5]) is {statistics.median([1,2,3,4,50])}\")\n",
    "print(\n",
    "    f\"The answer of statistics.mode(['red', 'green', 'blue', 'red']) is {statistics.mode(['red', 'green', 'blue', 'red'])}\"\n",
    ")\n",
    "print(f\"The answer of statistics.stdev([1,2,3,4,5]) is {statistics.stdev([1,2,3,4,5])}\")\n",
    "print(f\"The answer of statistics.variance([1,2,3,4,5]) is {statistics.variance([1,2,3,4,5])}\")\n",
    "print(\n",
    "    f\"The answer of statistics.covariance([1,2,3,4,5],[5,4,3,2,1]) is {statistics.covariance([1,2,3,4,5], [5,4,3,2,1])}\"\n",
    ")\n",
    "print(\n",
    "    f\"The answer of statistics.correlation([1,2,3,4,5],[5,4,3,2,1]) is {statistics.correlation([1,2,3,4,5], [5,4,3,2,1])}\"\n",
    ")\n",
    "print(\n",
    "    f\"The answer of statistics.quantiles([1,2,3,4,5,6,7,8,9,10], n=4) is {statistics.quantiles([1,2,3,4,5,6,7,8,9,10], n=4)}\"\n",
    ")  # Divide data into n continuous intervals with equal probability. Returns a list of n - 1 cut points separating the intervals."
   ]
  },
  {
   "cell_type": "markdown",
   "metadata": {
    "jp-MarkdownHeadingCollapsed": true,
    "tags": []
   },
   "source": [
    "## Complex Types"
   ]
  },
  {
   "cell_type": "code",
   "execution_count": 15,
   "metadata": {},
   "outputs": [],
   "source": [
    "import pprint"
   ]
  },
  {
   "cell_type": "markdown",
   "metadata": {},
   "source": [
    "### Python Lists\n",
    "\n",
    "In other programming languages, Lists are also called Array or Vectors. A list is created by using brackets `[]` or `list()`. For example, `ages = [10, 23, 43, 14, 55]`.\n",
    "\n",
    "Python List are `iterable` or `sequence` data types similarly to `Tuples` and `Ranges`.\n",
    "\n",
    "Python Lists are `mutable` meaning they CAN be modified.\n",
    "\n",
    "Reference: https://docs.python.org/3/library/stdtypes.html#sequence-types-list-tuple-range"
   ]
  },
  {
   "cell_type": "code",
   "execution_count": 16,
   "metadata": {},
   "outputs": [
    {
     "name": "stdout",
     "output_type": "stream",
     "text": [
      "The ages of the participants are [10, 23, 43, 14, 55]\n",
      "The gender of the participants are ['female', 'male', 'male', 'female', 'unknown']\n",
      "Who participated to the tutorial? [True, True, False, True, False]\n",
      "\n",
      "The number of subscriptions is 5\n"
     ]
    }
   ],
   "source": [
    "# Create a list\n",
    "ages = [10, 23, 43, 14, 55]\n",
    "print(f\"The ages of the participants are {ages}\")\n",
    "\n",
    "sex = [\"female\", \"male\", \"male\", \"female\", \"unknown\"]\n",
    "print(f\"The gender of the participants are {sex}\")\n",
    "\n",
    "# We can also use list() to create a list\n",
    "presence = list((True, True, False, True, False))\n",
    "print(f\"Who participated to the tutorial? {presence}\")\n",
    "\n",
    "# List length - len()\n",
    "print(f\"\\nThe number of subscriptions is {len(ages)}\")"
   ]
  },
  {
   "cell_type": "code",
   "execution_count": 17,
   "metadata": {},
   "outputs": [
    {
     "name": "stdout",
     "output_type": "stream",
     "text": [
      "43\n",
      "55\n",
      "[43, 14]\n",
      "[10, 23]\n",
      "[43, 14, 55]\n",
      "False\n"
     ]
    }
   ],
   "source": [
    "# Accessing items from a list\n",
    "\n",
    "print(ages[2])\n",
    "\n",
    "print(ages[-1])\n",
    "\n",
    "print(ages[2:4])\n",
    "\n",
    "print(ages[:2])\n",
    "\n",
    "print(ages[2:])\n",
    "\n",
    "print(33 in ages)"
   ]
  },
  {
   "cell_type": "code",
   "execution_count": 18,
   "metadata": {},
   "outputs": [
    {
     "name": "stdout",
     "output_type": "stream",
     "text": [
      "[True, False, False, True, False]\n",
      "[10, 22, 18, 14, 55]\n"
     ]
    }
   ],
   "source": [
    "# Mutating lists\n",
    "\n",
    "# Change one or more items\n",
    "presence[1] = False\n",
    "print(presence)\n",
    "\n",
    "ages[1:3] = [22, 18]\n",
    "print(ages)"
   ]
  },
  {
   "cell_type": "code",
   "execution_count": 19,
   "metadata": {},
   "outputs": [
    {
     "name": "stdout",
     "output_type": "stream",
     "text": [
      "['female', 'male', 'unknown', 'male', 'female', 'unknown']\n",
      "[10, 22, 18, 14, 55, 99]\n",
      "[10, 22, 18, 14, 55, 99, 97, 98, 99]\n"
     ]
    }
   ],
   "source": [
    "# Add to the list\n",
    "sex.insert(2, \"unknown\")\n",
    "print(sex)\n",
    "\n",
    "ages.append(99)\n",
    "print(ages)\n",
    "\n",
    "ages.extend([97, 98, 99])\n",
    "print(ages)"
   ]
  },
  {
   "cell_type": "code",
   "execution_count": 20,
   "metadata": {},
   "outputs": [
    {
     "name": "stdout",
     "output_type": "stream",
     "text": [
      "[10, 22, 18, 14, 55, 99, 97, 98]\n",
      "[10, 18, 14, 55, 99, 97, 98]\n",
      "[10, 18, 14, 55, 99, 97]\n",
      "[]\n"
     ]
    }
   ],
   "source": [
    "# Remove from the list\n",
    "ages.pop()  # remove last index\n",
    "print(ages)\n",
    "\n",
    "ages.pop(1)  # remove second index / can use del ages[1]\n",
    "print(ages)\n",
    "\n",
    "ages.pop(-1)  # remove last index\n",
    "print(ages)\n",
    "\n",
    "sex.clear()  # removes all items\n",
    "print(sex)\n",
    "\n",
    "del sex  # will completely remove the object\n",
    "# print(sex) will fail because the object sex does not exist"
   ]
  },
  {
   "cell_type": "code",
   "execution_count": 21,
   "metadata": {},
   "outputs": [
    {
     "name": "stdout",
     "output_type": "stream",
     "text": [
      "1\n",
      "4\n",
      "[10, 18, 14, 55, 99, 97]\n",
      "[97, 99, 55, 14, 18, 10]\n",
      "[10, 14, 18, 55, 97, 99]\n"
     ]
    }
   ],
   "source": [
    "# Some additional List methods\n",
    "print(ages.count(99))\n",
    "\n",
    "print(ages.index(99))\n",
    "\n",
    "print(ages.copy())  # returns a new variable\n",
    "\n",
    "ages.reverse()  # mutates the variable\n",
    "print(ages)\n",
    "\n",
    "ages.sort()  # mutates the variable\n",
    "print(ages)"
   ]
  },
  {
   "cell_type": "markdown",
   "metadata": {},
   "source": [
    "### Python Tuples\n",
    "\n",
    "A `list` variable is created by using parentheses `()` or the function `tuple()`. For example, `ages = (10, 23, 43, 14, 55)`.\n",
    "\n",
    "Python Tuples are `iterable` or `sequence` data types similarly to `Lists` and `Ranges`.\n",
    "\n",
    "Python Tuples are `immmutable` meaning they CANNOT be modified.\n",
    "\n",
    "Reference: https://docs.python.org/3/library/stdtypes.html#sequence-types-list-tuple-range"
   ]
  },
  {
   "cell_type": "code",
   "execution_count": 22,
   "metadata": {},
   "outputs": [
    {
     "name": "stdout",
     "output_type": "stream",
     "text": [
      "The ages of the participants are (10, 23, 43, 14, 55)\n",
      "The gender of the participants are ('female', 'male', 'male', 'female', 'unknown')\n",
      "Who participated to the tutorial? (True, True, False, True, False)\n",
      "\n",
      "The number of subscriptions is 5\n"
     ]
    }
   ],
   "source": [
    "# Create a tuple\n",
    "ages2 = (10, 23, 43, 14, 55)\n",
    "print(f\"The ages of the participants are {ages2}\")\n",
    "\n",
    "sex2 = (\"female\", \"male\", \"male\", \"female\", \"unknown\")\n",
    "print(f\"The gender of the participants are {sex2}\")\n",
    "\n",
    "# We can also use tuple() to create a tuple\n",
    "presence2 = tuple([True, True, False, True, False])\n",
    "print(f\"Who participated to the tutorial? {presence2}\")\n",
    "\n",
    "# Tuple length - len()\n",
    "print(f\"\\nThe number of subscriptions is {len(ages2)}\")"
   ]
  },
  {
   "cell_type": "code",
   "execution_count": 23,
   "metadata": {},
   "outputs": [
    {
     "name": "stdout",
     "output_type": "stream",
     "text": [
      "43\n",
      "55\n",
      "(43, 14)\n",
      "(10, 23)\n",
      "(43, 14, 55)\n",
      "False\n"
     ]
    }
   ],
   "source": [
    "# Accessing items from a tuple\n",
    "\n",
    "print(ages2[2])\n",
    "\n",
    "print(ages2[-1])\n",
    "\n",
    "print(ages2[2:4])\n",
    "\n",
    "print(ages2[:2])\n",
    "\n",
    "print(ages2[2:])\n",
    "\n",
    "print(33 in ages2)"
   ]
  },
  {
   "cell_type": "code",
   "execution_count": 24,
   "metadata": {},
   "outputs": [
    {
     "name": "stdout",
     "output_type": "stream",
     "text": [
      "0\n",
      "1\n"
     ]
    }
   ],
   "source": [
    "# Some additional List methods\n",
    "print(ages2.count(99))\n",
    "\n",
    "print(ages2.index(23))"
   ]
  },
  {
   "cell_type": "markdown",
   "metadata": {},
   "source": [
    "#### Python Ranges\n",
    "\n",
    "The `range` type represents an immutable sequence of numbers and is commonly used for looping a specific number of times in `for` loops.\n",
    "\n",
    "Range signature is `range(start, stop[, step)`. If `start` is not provided, it defaults to 0. If `step` is not provided, it defaults to 1. `stop` is required.\n",
    "\n",
    "Reference: https://docs.python.org/3/library/stdtypes.html#ranges"
   ]
  },
  {
   "cell_type": "code",
   "execution_count": 25,
   "metadata": {},
   "outputs": [
    {
     "name": "stdout",
     "output_type": "stream",
     "text": [
      "[0, 2, 4, 6, 8]\n"
     ]
    }
   ],
   "source": [
    "x = range(0, 10, 2)\n",
    "\n",
    "print(list(x))"
   ]
  },
  {
   "cell_type": "code",
   "execution_count": 26,
   "metadata": {},
   "outputs": [
    {
     "name": "stdout",
     "output_type": "stream",
     "text": [
      "True\n",
      "True\n",
      "False\n",
      "False\n"
     ]
    }
   ],
   "source": [
    "print(0 in range(0, 10, 2))\n",
    "print(6 in range(0, 10, 2))\n",
    "print(7 in range(10, 2))\n",
    "print(10 in range(0, 10, 2))"
   ]
  },
  {
   "cell_type": "markdown",
   "metadata": {},
   "source": [
    "#### Python Dictionaries\n",
    "\n",
    "Dictionaries are used to store data in key:value pairs. \n",
    "\n",
    "Since python 3.7, dictionaries are ordered. Dictionaries are mutable and do not allow duplicable keys.\n",
    "\n",
    "Reference: https://docs.python.org/3/tutorial/datastructures.html#dictionaries"
   ]
  },
  {
   "cell_type": "code",
   "execution_count": 27,
   "metadata": {},
   "outputs": [
    {
     "name": "stdout",
     "output_type": "stream",
     "text": [
      "\n",
      "The sample size per region is {'North': 20, 'South': 10, 'West': 30, 'East': 30}\n",
      "\n",
      "The person basic information is {'first_name': 'Jane', 'last_name': 'Doe', 'age': 33, 'female': True, 'children': ['John', 'Sara', 'Mike']}\n",
      "\n",
      "The population size per country is {'CAN': 30, 'SEN': 17, 'USA': 330}\n",
      "\n",
      "The number of strata is 4\n"
     ]
    }
   ],
   "source": [
    "# Create a Dictionary\n",
    "sample = {\"North\": 20, \"South\": 10, \"West\": 30, \"East\": 30}\n",
    "print(f\"\\nThe sample size per region is {sample}\")\n",
    "\n",
    "person = {\n",
    "    \"first_name\": \"Jane\",\n",
    "    \"last_name\": \"Doe\",\n",
    "    \"age\": 33,\n",
    "    \"female\": True,\n",
    "    \"children\": [\"John\", \"Sara\", \"Mike\"],\n",
    "}\n",
    "print(f\"\\nThe person basic information is {person}\")\n",
    "\n",
    "# We can also use dict() to create a dictionary\n",
    "population = dict([(\"CAN\", 30), (\"SEN\", 17), (\"USA\", 330)])\n",
    "print(f\"\\nThe population size per country is {population}\")\n",
    "\n",
    "# Tuple length - len()\n",
    "print(f\"\\nThe number of strata is {len(sample)}\")  # Number of keys"
   ]
  },
  {
   "cell_type": "code",
   "execution_count": 28,
   "metadata": {},
   "outputs": [
    {
     "name": "stdout",
     "output_type": "stream",
     "text": [
      "Jane\n",
      "Jane\n",
      "\n",
      "\n",
      "True\n",
      "False\n",
      "\n",
      "\n",
      "dict_keys(['first_name', 'last_name', 'age', 'female', 'children'])\n",
      "dict_values(['Jane', 'Doe', 33, True, ['John', 'Sara', 'Mike']])\n",
      "\n",
      "\n",
      "dict_items([('first_name', 'Jane'), ('last_name', 'Doe'), ('age', 33), ('female', True), ('children', ['John', 'Sara', 'Mike'])])\n"
     ]
    }
   ],
   "source": [
    "# Accessing items from dictionaries\n",
    "\n",
    "print(person[\"first_name\"])\n",
    "print(person.get(\"first_name\"))\n",
    "\n",
    "print(\"\\n\")\n",
    "print(\"age\" in person)\n",
    "print(\"gender\" in person)\n",
    "\n",
    "print(\"\\n\")\n",
    "print(person.keys())  # we can convert the output to list or tuple for further manipulations\n",
    "print(person.values())  # we can convert the output to list or tuple for further manipulations\n",
    "\n",
    "print(\"\\n\")\n",
    "print(person.items())"
   ]
  },
  {
   "cell_type": "code",
   "execution_count": 29,
   "metadata": {},
   "outputs": [
    {
     "name": "stdout",
     "output_type": "stream",
     "text": [
      "{'first_name': 'John', 'last_name': 'Doe', 'age': 33, 'female': True, 'children': ['John', 'Sara', 'Mike']}\n",
      "{'first_name': 'John', 'last_name': 'Doe', 'age': 33, 'female': True, 'children': ['John', 'Sara', 'Mike'], 'male': True}\n"
     ]
    }
   ],
   "source": [
    "# Mutating dictionaries\n",
    "\n",
    "# Change a value\n",
    "person[\"first_name\"] = \"John\"\n",
    "print(person)\n",
    "\n",
    "person.update({\"male\": True})\n",
    "print(person)"
   ]
  },
  {
   "cell_type": "code",
   "execution_count": 30,
   "metadata": {},
   "outputs": [
    {
     "name": "stdout",
     "output_type": "stream",
     "text": [
      "\n",
      "Added Nationality\n",
      "{'age': 33,\n",
      " 'children': ['John', 'Sara', 'Mike'],\n",
      " 'female': True,\n",
      " 'first_name': 'John',\n",
      " 'last_name': 'Doe',\n",
      " 'male': True,\n",
      " 'nationality': 'USA'}\n",
      "\n",
      "Added height and weight\n",
      "{'age': 33,\n",
      " 'children': ['John', 'Sara', 'Mike'],\n",
      " 'female': True,\n",
      " 'first_name': 'John',\n",
      " 'height-weight': {'height': \"6'4\", 'weight': 200},\n",
      " 'last_name': 'Doe',\n",
      " 'male': True,\n",
      " 'nationality': 'USA'}\n"
     ]
    }
   ],
   "source": [
    "# Add to the list\n",
    "print(\"\\nAdded Nationality\")\n",
    "person[\"nationality\"] = \"USA\"\n",
    "pprint.pprint(person)\n",
    "\n",
    "print(\"\\nAdded height and weight\")\n",
    "person.update({\"height-weight\": {\"height\": \"6'4\", \"weight\": 200}})\n",
    "pprint.pprint(person)"
   ]
  },
  {
   "cell_type": "code",
   "execution_count": 31,
   "metadata": {},
   "outputs": [
    {
     "name": "stdout",
     "output_type": "stream",
     "text": [
      "\n",
      "Removed nationality\n",
      "{'age': 33,\n",
      " 'children': ['John', 'Sara', 'Mike'],\n",
      " 'female': True,\n",
      " 'first_name': 'John',\n",
      " 'height-weight': {'height': \"6'4\", 'weight': 200},\n",
      " 'last_name': 'Doe',\n",
      " 'male': True}\n",
      "\n",
      "Removed male\n",
      "{'age': 33,\n",
      " 'children': ['John', 'Sara', 'Mike'],\n",
      " 'female': True,\n",
      " 'first_name': 'John',\n",
      " 'height-weight': {'height': \"6'4\", 'weight': 200},\n",
      " 'last_name': 'Doe'}\n",
      "\n",
      "Removed last inserted item\n",
      "{'first_name': 'John', 'last_name': 'Doe', 'age': 33, 'female': True, 'children': ['John', 'Sara', 'Mike']}\n",
      "\n",
      "Removed all items\n",
      "{}\n"
     ]
    }
   ],
   "source": [
    "# Remove from the list\n",
    "print(\"\\nRemoved nationality\")\n",
    "person.pop(\"nationality\")  # remove item with the specified key\n",
    "pprint.pprint(person)\n",
    "\n",
    "print(\"\\nRemoved male\")\n",
    "del person[\"male\"]  # remove item with the specified key\n",
    "pprint.pprint(person)\n",
    "\n",
    "print(\"\\nRemoved last inserted item\")\n",
    "person.popitem()  # remove last inserted item\n",
    "print(person)\n",
    "\n",
    "print(\"\\nRemoved all items\")\n",
    "person.clear()  # removes all items\n",
    "print(person)\n",
    "\n",
    "# print(\"\\nRemoved all items\")\n",
    "# del sample  # removes the object completly\n",
    "# print(sample) will cause error because the object does not exist"
   ]
  },
  {
   "cell_type": "code",
   "execution_count": 32,
   "metadata": {},
   "outputs": [
    {
     "name": "stdout",
     "output_type": "stream",
     "text": [
      "{'CAN': 30, 'SEN': 17, 'USA': 330}\n",
      "{'key1': None, 'key2': None, 'key3': None}\n",
      "{'key1': 3, 'key2': 3, 'key3': 3}\n",
      "330\n"
     ]
    }
   ],
   "source": [
    "# Some additional dictionary methods\n",
    "print(population.copy())\n",
    "\n",
    "keys = (\"key1\", \"key2\", \"key3\")\n",
    "print(population.fromkeys(keys))\n",
    "print(population.fromkeys(keys, 3))\n",
    "\n",
    "print(population.setdefault(\"USA\"))  # returns a new variable"
   ]
  },
  {
   "cell_type": "markdown",
   "metadata": {
    "tags": []
   },
   "source": [
    "## Control Flow"
   ]
  },
  {
   "cell_type": "markdown",
   "metadata": {},
   "source": [
    "Python programs are run sequentially top to bottom. Control flows, such as `if-else statements` and `for and while loops`, allows us to introduce more complexities in the programs to enable complex algorithms. The main types of control flows are\n",
    "- Decision: if-elif-else, match-case\n",
    "- Looping: for, while\n",
    "- Branching: break, continue"
   ]
  },
  {
   "cell_type": "markdown",
   "metadata": {},
   "source": [
    "### Decision"
   ]
  },
  {
   "cell_type": "markdown",
   "metadata": {},
   "source": [
    "Add the table of operators for control flows\n",
    "\n",
    "| Operator | Name             | Example \n",
    "|----------|--------------------------|---------\n",
    "| ==       | Equal                    | x == Y\n",
    "| !=       | Not equal                | x != Y\n",
    "| >        | Greater than             | x > Y\n",
    "| <        | Less than                | x < Y\n",
    "| >=       | greater than or equal to | x < Y\n",
    "| <=       | Less than or equal to    | x < Y\n",
    "| and      | logical AND               | x > 0 and y < 9\n",
    "| or       | logical OR                | x > 0 or y < 9\n",
    "| not      | logical NOT               | not (x > 0 and y < 9)\n",
    "| is       | Object identity           | x > 0 or y < 9\n",
    "| is not   | Negated object identity   | not (x > 0 and y < 9)\n",
    "| in       | Appartenance              | x > 0 or y < 9\n",
    "| not in   | Negated appartenance      | not (x > 0 and y < 9)\n",
    "\n",
    "Reference: \n",
    "- https://docs.python.org/3/library/stdtypes.html#boolean-operations-and-or-no\n",
    "- https://docs.python.org/3/library/stdtypes.html#comparisons"
   ]
  },
  {
   "cell_type": "code",
   "execution_count": 33,
   "metadata": {},
   "outputs": [
    {
     "name": "stdout",
     "output_type": "stream",
     "text": [
      "The respondent is a female.\n"
     ]
    }
   ],
   "source": [
    "sex = 1\n",
    "if sex == 1:\n",
    "    print(\"The respondent is a female.\")"
   ]
  },
  {
   "cell_type": "code",
   "execution_count": 34,
   "metadata": {},
   "outputs": [
    {
     "name": "stdout",
     "output_type": "stream",
     "text": [
      "The respondent is a male.\n"
     ]
    }
   ],
   "source": [
    "sex = 2\n",
    "if sex == 1:\n",
    "    print(\"The respondent is a female.\")\n",
    "else:\n",
    "    print(\"The respondent is a male.\")"
   ]
  },
  {
   "cell_type": "code",
   "execution_count": 35,
   "metadata": {},
   "outputs": [
    {
     "name": "stdout",
     "output_type": "stream",
     "text": [
      "The gender of the respondent is unknown.\n"
     ]
    }
   ],
   "source": [
    "sex = 99\n",
    "if sex == 1:\n",
    "    print(\"The respondent is a female.\")\n",
    "elif sex == 2:\n",
    "    print(\"The respondent is a female.\")\n",
    "else:\n",
    "    print(\"The gender of the respondent is unknown.\")"
   ]
  },
  {
   "cell_type": "code",
   "execution_count": 36,
   "metadata": {},
   "outputs": [
    {
     "name": "stdout",
     "output_type": "stream",
     "text": [
      "Middle income\n"
     ]
    }
   ],
   "source": [
    "country = \"USA\"\n",
    "income = 25_000\n",
    "\n",
    "if country == \"USA\":\n",
    "    if income <= 20_000:\n",
    "        print(\"Low income\")\n",
    "    elif income >= 100_000:\n",
    "        print(\"High income\")\n",
    "    else:\n",
    "        print(\"Middle income\")\n",
    "elif country != \"USA\":\n",
    "    if income <= 10_000:\n",
    "        print(\"Low income\")\n",
    "    elif income >= 60_000:\n",
    "        print(\"High income\")\n",
    "    else:\n",
    "        print(\"Middle income\")"
   ]
  },
  {
   "cell_type": "code",
   "execution_count": 37,
   "metadata": {
    "tags": []
   },
   "outputs": [
    {
     "name": "stdout",
     "output_type": "stream",
     "text": [
      "The ISO3 code is valid.\n"
     ]
    }
   ],
   "source": [
    "countries = [\"USA\", \"CAN\", \"SEN\"]\n",
    "iso3 = \"SEN\"\n",
    "\n",
    "if iso3 in countries:\n",
    "    print(\"The ISO3 code is valid.\")\n",
    "\n",
    "\n",
    "if iso3 not in countries:\n",
    "    print(\"The ISO3 code is NOT valid.\")"
   ]
  },
  {
   "cell_type": "code",
   "execution_count": 38,
   "metadata": {},
   "outputs": [
    {
     "name": "stdout",
     "output_type": "stream",
     "text": [
      "The variables have the same value\n",
      "\n",
      "country1 and country3 are the same - same object\n"
     ]
    }
   ],
   "source": [
    "country1 = {\"ISO3\": \"USA\"}\n",
    "country2 = country1.copy()\n",
    "country3 = country1\n",
    "\n",
    "if country1 == country2:\n",
    "    print(\"The variables have the same value\\n\")\n",
    "\n",
    "if country1 is country2:\n",
    "    print(\"country1 and country3 are the same - same object\\n\")\n",
    "\n",
    "if country1 is country3:\n",
    "    print(\"country1 and country3 are the same - same object\")"
   ]
  },
  {
   "cell_type": "markdown",
   "metadata": {},
   "source": [
    "### Looping "
   ]
  },
  {
   "cell_type": "markdown",
   "metadata": {},
   "source": [
    "`for` and `while` loops are the most common ways to repeat a block of statements. \n",
    "\n",
    "`for loops` are use to repeat a block of statement over a determined number of iterations. It uses `iterable` data structures such as a list, tuple, range, dictionary, or set."
   ]
  },
  {
   "cell_type": "code",
   "execution_count": 39,
   "metadata": {},
   "outputs": [
    {
     "name": "stdout",
     "output_type": "stream",
     "text": [
      "\n",
      "Looping over a list\n",
      "  The country is CAN\n",
      "  The country is SEN\n",
      "  The country is USA\n",
      "\n",
      "Looping over a range\n",
      "  The country in position 0 is CAN\n",
      "  The country in position 1 is SEN\n",
      "  The country in position 2 is USA\n"
     ]
    }
   ],
   "source": [
    "countries = [\"CAN\", \"SEN\", \"USA\"]\n",
    "\n",
    "print(\"\\nLooping over a list\")\n",
    "for iso3 in countries:\n",
    "    print(f\"  The country is {iso3}\")\n",
    "\n",
    "print(\"\\nLooping over a range\")\n",
    "for i in range(3):\n",
    "    print(f\"  The country in position {i} is {countries[i]}\")"
   ]
  },
  {
   "cell_type": "markdown",
   "metadata": {},
   "source": [
    "\n",
    "`While loops` are used to repeat block of statements until a condition is satisfied."
   ]
  },
  {
   "cell_type": "code",
   "execution_count": 40,
   "metadata": {},
   "outputs": [
    {
     "name": "stdout",
     "output_type": "stream",
     "text": [
      "  The country in position 0 is CAN\n",
      "  The country in position 1 is SEN\n",
      "  The country in position 2 is USA\n"
     ]
    }
   ],
   "source": [
    "countries = [\"CAN\", \"SEN\", \"USA\"]\n",
    "\n",
    "i = 0\n",
    "while i < 3:\n",
    "    print(f\"  The country in position {i} is {countries[i]}\")\n",
    "    i = i + 1\n",
    "\n",
    "# Infinite loops\n",
    "# while True:\n",
    "#     print(\"Do something!\")"
   ]
  },
  {
   "cell_type": "markdown",
   "metadata": {},
   "source": [
    "### Branching"
   ]
  },
  {
   "cell_type": "markdown",
   "metadata": {},
   "source": [
    "Using `break` and `continue` statements allows early exits or skips from loops. "
   ]
  },
  {
   "cell_type": "code",
   "execution_count": 41,
   "metadata": {},
   "outputs": [
    {
     "name": "stdout",
     "output_type": "stream",
     "text": [
      "CAN\n",
      "DJI\n",
      "we found an african country\n",
      "The loop is terminated\n"
     ]
    }
   ],
   "source": [
    "countries = [\"CAN\", \"DJI\", \"MEX\", \"SEN\", \"USA\", \"ZMB\"]\n",
    "\n",
    "for iso3 in countries:\n",
    "    print(iso3)\n",
    "    if iso3 in [\"DJI\", \"SEN\", \"ZMB\"]:\n",
    "        print(\"we found an african country\")\n",
    "        break\n",
    "        print(\"This is after the break\")\n",
    "\n",
    "print(\"The loop is terminated\")"
   ]
  },
  {
   "cell_type": "code",
   "execution_count": 42,
   "metadata": {},
   "outputs": [
    {
     "name": "stdout",
     "output_type": "stream",
     "text": [
      "CAN\n",
      "DJI\n",
      "we found an african country\n",
      "The loop is terminated\n"
     ]
    }
   ],
   "source": [
    "countries = [\"CAN\", \"DJI\", \"MEX\", \"SEN\", \"USA\", \"ZMB\"]\n",
    "i = 0\n",
    "\n",
    "while True:\n",
    "    print(countries[i])\n",
    "    if countries[i] in [\"DJI\", \"SEN\", \"ZMB\"]:\n",
    "        print(\"we found an african country\")\n",
    "        break\n",
    "        print(\"This is after the break\")\n",
    "    i = i + 1\n",
    "\n",
    "print(\"The loop is terminated\")"
   ]
  },
  {
   "cell_type": "code",
   "execution_count": 43,
   "metadata": {},
   "outputs": [
    {
     "name": "stdout",
     "output_type": "stream",
     "text": [
      "The number is  0 0\n",
      "The number is  0 1\n",
      "The number is  1 0\n",
      "The number is  1 1\n",
      "The number is  2 0\n",
      "The number is  2 1\n",
      "The number is  3 0\n",
      "The number is  3 1\n",
      "The number is  4 0\n",
      "The number is  4 1\n"
     ]
    }
   ],
   "source": [
    "# Break statement inside nested-loop\n",
    "\n",
    "for i in range(5):\n",
    "    for j in range(5):\n",
    "        if j == 2:\n",
    "            break\n",
    "        print(\"The number is \", i, j);"
   ]
  },
  {
   "cell_type": "markdown",
   "metadata": {},
   "source": [
    "\n",
    "\n",
    "`Continue` statement skips"
   ]
  },
  {
   "cell_type": "code",
   "execution_count": 44,
   "metadata": {},
   "outputs": [
    {
     "name": "stdout",
     "output_type": "stream",
     "text": [
      "CAN\n",
      "MEX\n",
      "SEN\n",
      "USA\n",
      "ZMB\n",
      "The loop is terminated\n"
     ]
    }
   ],
   "source": [
    "# for loops\n",
    "\n",
    "countries = [\"CAN\", \"DJI\", \"MEX\", \"SEN\", \"USA\", \"ZMB\"]\n",
    "\n",
    "for iso3 in countries:\n",
    "    if iso3 == \"DJI\":\n",
    "        continue\n",
    "        print(\"we are skipping DJI\")\n",
    "    print(iso3)\n",
    "\n",
    "print(\"The loop is terminated\")"
   ]
  },
  {
   "cell_type": "code",
   "execution_count": 45,
   "metadata": {},
   "outputs": [
    {
     "name": "stdout",
     "output_type": "stream",
     "text": [
      "CAN\n",
      "DJI\n",
      "MEX\n",
      "SEN\n",
      "ZMB\n",
      "The loop is terminated\n"
     ]
    }
   ],
   "source": [
    "# while loops\n",
    "\n",
    "countries = [\"CAN\", \"DJI\", \"MEX\", \"SEN\", \"USA\", \"ZMB\"]\n",
    "i = 0\n",
    "\n",
    "while i < len(countries):\n",
    "    if countries[i] == \"USA\":\n",
    "        i += 1\n",
    "        continue\n",
    "        print(\"we are skipping USA\")\n",
    "    print(countries[i])\n",
    "    i += 1\n",
    "\n",
    "print(\"The loop is terminated\")"
   ]
  },
  {
   "cell_type": "markdown",
   "metadata": {},
   "source": [
    "## Python Functions, Classes, and Objects"
   ]
  },
  {
   "cell_type": "markdown",
   "metadata": {},
   "source": [
    "Python is an object oriented programming language and almost everything in Python is an object. \n",
    "\n",
    "The class is the blue-print for creating objects.\n",
    "\n",
    "Classes provide a means of bundling data and functionality (methods) together.\n",
    "\n",
    "Reference: https://docs.python.org/3/tutorial/classes.html"
   ]
  },
  {
   "cell_type": "markdown",
   "metadata": {},
   "source": [
    "### Python Functions\n",
    "\n",
    "Functions are critical to the DRY - Don't Repeat Yourself - principle. In general, we do not want to repeat code to run the same logic multiple times. When some code needs to be run multiple times, it can be packaged into a function and called when needed. \n",
    "\n",
    "A pure function takes some data as input, transform the data, and returns the results of the transformation as data. \n",
    "\n",
    "In Python, it is also possible to have functions without input or output data. In these situations, state of existing data outside of the function body are mutated (side effects). \n",
    "\n",
    "Typical function signature\n",
    "\n",
    "```python:\n",
    "def name_of_function(parameter1, parameter2, ...):\n",
    "    block of statement \n",
    "    return statement\n",
    "```\n",
    "\n",
    "If the `return` statement is missing then then the function returns `None`."
   ]
  },
  {
   "cell_type": "code",
   "execution_count": 46,
   "metadata": {},
   "outputs": [
    {
     "name": "stdout",
     "output_type": "stream",
     "text": [
      "The result of 2+3 is 5\n"
     ]
    }
   ],
   "source": [
    "# function definition\n",
    "def sum(x, y):\n",
    "    return x+y\n",
    "\n",
    "\n",
    "# function use\n",
    "x = 2\n",
    "y = 3\n",
    "s = sum(x, y)\n",
    "print(f\"The result of {x}+{y} is {s}\")"
   ]
  },
  {
   "cell_type": "code",
   "execution_count": 47,
   "metadata": {},
   "outputs": [
    {
     "name": "stdout",
     "output_type": "stream",
     "text": [
      "The result of max(2, 3) is 3\n"
     ]
    }
   ],
   "source": [
    "# function definition\n",
    "def max(x, y):\n",
    "    if x >= y:\n",
    "        return x\n",
    "    else:\n",
    "        return y\n",
    "\n",
    "# function use\n",
    "x = 2\n",
    "y = 3\n",
    "print(f\"The result of max({x}, {y}) is {max(x, y)}\")"
   ]
  },
  {
   "cell_type": "code",
   "execution_count": 48,
   "metadata": {},
   "outputs": [],
   "source": [
    "# function definition\n",
    "def sqrt(x):\n",
    "    if x >= 0:\n",
    "        return math.sqrt(x)\n",
    "    else:\n",
    "        raise ValueError(\"sqrt not defined for negative values!!!\")\n",
    "\n",
    "# # function use\n",
    "# x = -2\n",
    "# print(f\"The result of sqrt({x}) is {sqrt(x)}\")"
   ]
  },
  {
   "cell_type": "markdown",
   "metadata": {},
   "source": [
    "### Basics of Python Classes and Objects\n",
    "\n",
    "Let's assume that we want to create a Python class called `LinearEstimator`. This class will \n",
    "- store the necessary data to produce the estimators; and \n",
    "- calculate mean and total of the stored data\n",
    "\n",
    "So the basic/minimum technical specifications are \n",
    "\n",
    "Class LinearEstimator\n",
    "- Member data\n",
    "    - response values \n",
    "    - sample weights\n",
    "- Memmber methods\n",
    "    - mean()\n",
    "    - total()"
   ]
  },
  {
   "cell_type": "code",
   "execution_count": 49,
   "metadata": {},
   "outputs": [],
   "source": [
    "class LinearEstimator:\n",
    "    def __init__(self, sample, weight):\n",
    "        self.sample = sample\n",
    "        self.weight = weight\n",
    "        self.sample_size = len(sample)\n",
    "\n",
    "    def total(self):\n",
    "        total = 0\n",
    "        for i in range(self.sample_size):\n",
    "            total = total + self.weight[i] * self.sample[i]\n",
    "        return total\n",
    "\n",
    "    def mean(self):\n",
    "        return self.total() / self.sample_size"
   ]
  },
  {
   "cell_type": "markdown",
   "metadata": {},
   "source": [
    "The `Self` parameter is a reference to the class instance. \n",
    "\n",
    "`Self` is just a convention. The programmer can use any name as long it's the first parameter of the function. "
   ]
  },
  {
   "cell_type": "code",
   "execution_count": 50,
   "metadata": {},
   "outputs": [
    {
     "name": "stdout",
     "output_type": "stream",
     "text": [
      "\n",
      "The instance encapsulates the data\n",
      "[10000, 20000, 30000, 40000, 50000, 60000]\n",
      "[1, 2, 1, 2, 1, 1]\n",
      "\n",
      "\n"
     ]
    }
   ],
   "source": [
    "income = [10_000, 20_000, 30_000, 40_000, 50_000, 60_000]\n",
    "weight = [1, 2, 1, 2, 1, 1]\n",
    "\n",
    "est = LinearEstimator(income, weight)\n",
    "\n",
    "print(\"\\nThe instance encapsulates the data\")\n",
    "print(est.sample)\n",
    "print(est.weight)\n",
    "print(\"\\n\")"
   ]
  },
  {
   "cell_type": "code",
   "execution_count": 51,
   "metadata": {},
   "outputs": [
    {
     "name": "stdout",
     "output_type": "stream",
     "text": [
      "\n",
      "The sample mean is equal to 45000.0\n",
      "\n",
      "The sample total is equal to 270000\n",
      "\n"
     ]
    }
   ],
   "source": [
    "# Object has two methods to calculate the mean and total.\n",
    "\n",
    "sample_mean = est.mean()\n",
    "sample_total = est.total()\n",
    "\n",
    "print(f\"\\nThe sample mean is equal to {sample_mean}\\n\")\n",
    "print(f\"The sample total is equal to {est.total()}\\n\")"
   ]
  },
  {
   "cell_type": "markdown",
   "metadata": {},
   "source": [
    "### Python Inheritance\n",
    "\n",
    "Inheritance allows us to define a class that inherits all the methods and properties from another class.\n",
    "\n",
    "Parent class is the class being inherited from, also called base class.\n",
    "\n",
    "Child class is the class that inherits from another class, also called derived class.Inheritance allows us to define a class that inherits all the methods and properties from another class.\n",
    "\n",
    "Parent class is the class being inherited from, also called base class.\n",
    "\n",
    "Child class is the class that inherits from another class, also called derived class."
   ]
  },
  {
   "cell_type": "code",
   "execution_count": 52,
   "metadata": {},
   "outputs": [],
   "source": [
    "class Estimator(LinearEstimator):\n",
    "    def __init__(self, sample, weight):\n",
    "        LinearEstimator.__init__(self, sample, weight)\n",
    "\n",
    "    def median(self):\n",
    "        return statistics.median(self.sample)"
   ]
  },
  {
   "cell_type": "code",
   "execution_count": 53,
   "metadata": {},
   "outputs": [
    {
     "name": "stdout",
     "output_type": "stream",
     "text": [
      "\n",
      "The instance encapsulates the data\n",
      "[10000, 20000, 30000, 40000, 50000, 60000]\n",
      "[1, 2, 1, 2, 1, 1]\n",
      "\n",
      "\n"
     ]
    }
   ],
   "source": [
    "est2 = Estimator(income, weight)\n",
    "\n",
    "print(\"\\nThe instance encapsulates the data\")\n",
    "print(est2.sample)\n",
    "print(est2.weight)\n",
    "print(\"\\n\")"
   ]
  },
  {
   "cell_type": "code",
   "execution_count": 54,
   "metadata": {},
   "outputs": [
    {
     "name": "stdout",
     "output_type": "stream",
     "text": [
      "\n",
      "The sample mean is equal to 45000.0\n",
      "\n",
      "The sample total is equal to 270000\n",
      "\n",
      "The sample total is equal to 35000.0\n",
      "\n"
     ]
    }
   ],
   "source": [
    "# Object has three methods to calculate the mean, total, and median.\n",
    "\n",
    "sample_mean2 = est2.mean()\n",
    "sample_total2 = est2.total()\n",
    "sample_median2 = est2.median()\n",
    "\n",
    "print(f\"\\nThe sample mean is equal to {sample_mean}\\n\")\n",
    "print(f\"The sample total is equal to {sample_total2}\\n\")\n",
    "print(f\"The sample total is equal to {sample_median2}\\n\")"
   ]
  }
 ],
 "metadata": {
  "interpreter": {
   "hash": "8bb0667f4f327fab8640843b81c487ef6e34e1fdc2ce0d2d77bae6f830363906"
  },
  "kernelspec": {
   "display_name": "Python 3 (ipykernel)",
   "language": "python",
   "name": "python3"
  },
  "language_info": {
   "codemirror_mode": {
    "name": "ipython",
    "version": 3
   },
   "file_extension": ".py",
   "mimetype": "text/x-python",
   "name": "python",
   "nbconvert_exporter": "python",
   "pygments_lexer": "ipython3",
   "version": "3.10.2"
  },
  "toc-autonumbering": true,
  "toc-showmarkdowntxt": false,
  "toc-showtags": false
 },
 "nbformat": 4,
 "nbformat_minor": 4
}
